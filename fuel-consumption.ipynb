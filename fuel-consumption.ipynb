{
 "cells": [
  {
   "cell_type": "markdown",
   "id": "ea0cb03e",
   "metadata": {
    "papermill": {
     "duration": 0.013857,
     "end_time": "2023-07-07T08:19:06.643704",
     "exception": false,
     "start_time": "2023-07-07T08:19:06.629847",
     "status": "completed"
    },
    "tags": []
   },
   "source": [
    "# Fuel Consumption Prediction\n",
    "Made by Praneesh Sharma\n"
   ]
  },
  {
   "cell_type": "markdown",
   "id": "2a4180c0",
   "metadata": {
    "papermill": {
     "duration": 0.012637,
     "end_time": "2023-07-07T08:19:06.669069",
     "exception": false,
     "start_time": "2023-07-07T08:19:06.656432",
     "status": "completed"
    },
    "tags": []
   },
   "source": [
    "## Importing Libraries"
   ]
  },
  {
   "cell_type": "code",
   "execution_count": 1,
   "id": "0532d066",
   "metadata": {
    "execution": {
     "iopub.execute_input": "2023-07-07T08:19:06.699216Z",
     "iopub.status.busy": "2023-07-07T08:19:06.698582Z",
     "iopub.status.idle": "2023-07-07T08:19:08.340383Z",
     "shell.execute_reply": "2023-07-07T08:19:08.339202Z"
    },
    "papermill": {
     "duration": 1.661431,
     "end_time": "2023-07-07T08:19:08.343501",
     "exception": false,
     "start_time": "2023-07-07T08:19:06.682070",
     "status": "completed"
    },
    "tags": []
   },
   "outputs": [],
   "source": [
    "import numpy as np # linear algebra\n",
    "import pandas as pd # data processing\n",
    "\n",
    "import matplotlib.pyplot as plt #to visualize data\n",
    "import seaborn as sns #to visualize data\n",
    "\n",
    "from sklearn.preprocessing import StandardScaler #to scale the data\n",
    "from sklearn.model_selection import train_test_split #to spilt the data into test and train sets\n",
    "\n",
    "from sklearn.linear_model import LinearRegression #linear regression library\n",
    "from sklearn.tree import DecisionTreeRegressor #decision tree library\n",
    "\n",
    "from sklearn import metrics\n",
    "from sklearn.metrics import mean_absolute_error,mean_squared_error,r2_score\n",
    "from sklearn.metrics import accuracy_score,confusion_matrix"
   ]
  },
  {
   "cell_type": "markdown",
   "id": "997c673d",
   "metadata": {
    "papermill": {
     "duration": 0.012648,
     "end_time": "2023-07-07T08:19:08.369051",
     "exception": false,
     "start_time": "2023-07-07T08:19:08.356403",
     "status": "completed"
    },
    "tags": []
   },
   "source": [
    "## Data Cleaning"
   ]
  },
  {
   "cell_type": "code",
   "execution_count": 2,
   "id": "066763ce",
   "metadata": {
    "execution": {
     "iopub.execute_input": "2023-07-07T08:19:08.397159Z",
     "iopub.status.busy": "2023-07-07T08:19:08.395631Z",
     "iopub.status.idle": "2023-07-07T08:19:08.414723Z",
     "shell.execute_reply": "2023-07-07T08:19:08.413728Z"
    },
    "papermill": {
     "duration": 0.035763,
     "end_time": "2023-07-07T08:19:08.417373",
     "exception": false,
     "start_time": "2023-07-07T08:19:08.381610",
     "status": "completed"
    },
    "tags": []
   },
   "outputs": [],
   "source": [
    "#importing the dataset\n",
    "df = pd.read_csv(\"../input/vehicle-fuelconsumption/competition_edu_dataset.csv\")"
   ]
  },
  {
   "cell_type": "code",
   "execution_count": 3,
   "id": "5d4e5ffd",
   "metadata": {
    "execution": {
     "iopub.execute_input": "2023-07-07T08:19:08.445672Z",
     "iopub.status.busy": "2023-07-07T08:19:08.445041Z",
     "iopub.status.idle": "2023-07-07T08:19:08.480352Z",
     "shell.execute_reply": "2023-07-07T08:19:08.478946Z"
    },
    "papermill": {
     "duration": 0.052359,
     "end_time": "2023-07-07T08:19:08.483106",
     "exception": false,
     "start_time": "2023-07-07T08:19:08.430747",
     "status": "completed"
    },
    "tags": []
   },
   "outputs": [
    {
     "data": {
      "text/html": [
       "<div>\n",
       "<style scoped>\n",
       "    .dataframe tbody tr th:only-of-type {\n",
       "        vertical-align: middle;\n",
       "    }\n",
       "\n",
       "    .dataframe tbody tr th {\n",
       "        vertical-align: top;\n",
       "    }\n",
       "\n",
       "    .dataframe thead th {\n",
       "        text-align: right;\n",
       "    }\n",
       "</style>\n",
       "<table border=\"1\" class=\"dataframe\">\n",
       "  <thead>\n",
       "    <tr style=\"text-align: right;\">\n",
       "      <th></th>\n",
       "      <th>MPG</th>\n",
       "      <th>Cylinders</th>\n",
       "      <th>Displacement</th>\n",
       "      <th>Horsepower</th>\n",
       "      <th>Weight</th>\n",
       "      <th>Acceleration</th>\n",
       "      <th>Model Year</th>\n",
       "      <th>Origin</th>\n",
       "      <th>Car Name</th>\n",
       "    </tr>\n",
       "  </thead>\n",
       "  <tbody>\n",
       "    <tr>\n",
       "      <th>0</th>\n",
       "      <td>13.0</td>\n",
       "      <td>8</td>\n",
       "      <td>400.0</td>\n",
       "      <td>190</td>\n",
       "      <td>4422</td>\n",
       "      <td>12.5</td>\n",
       "      <td>72</td>\n",
       "      <td>1</td>\n",
       "      <td>chrysler newport royal</td>\n",
       "    </tr>\n",
       "    <tr>\n",
       "      <th>1</th>\n",
       "      <td>13.0</td>\n",
       "      <td>8</td>\n",
       "      <td>350.0</td>\n",
       "      <td>145</td>\n",
       "      <td>3988</td>\n",
       "      <td>13.0</td>\n",
       "      <td>73</td>\n",
       "      <td>1</td>\n",
       "      <td>chevrolet malibu</td>\n",
       "    </tr>\n",
       "    <tr>\n",
       "      <th>2</th>\n",
       "      <td>15.5</td>\n",
       "      <td>8</td>\n",
       "      <td>350.0</td>\n",
       "      <td>170</td>\n",
       "      <td>4165</td>\n",
       "      <td>11.4</td>\n",
       "      <td>77</td>\n",
       "      <td>1</td>\n",
       "      <td>chevrolet monte carlo landau</td>\n",
       "    </tr>\n",
       "    <tr>\n",
       "      <th>3</th>\n",
       "      <td>17.0</td>\n",
       "      <td>6</td>\n",
       "      <td>231.0</td>\n",
       "      <td>110</td>\n",
       "      <td>3907</td>\n",
       "      <td>21.0</td>\n",
       "      <td>75</td>\n",
       "      <td>1</td>\n",
       "      <td>buick century</td>\n",
       "    </tr>\n",
       "    <tr>\n",
       "      <th>4</th>\n",
       "      <td>13.0</td>\n",
       "      <td>8</td>\n",
       "      <td>318.0</td>\n",
       "      <td>150</td>\n",
       "      <td>3755</td>\n",
       "      <td>14.0</td>\n",
       "      <td>76</td>\n",
       "      <td>1</td>\n",
       "      <td>dodge d100</td>\n",
       "    </tr>\n",
       "    <tr>\n",
       "      <th>...</th>\n",
       "      <td>...</td>\n",
       "      <td>...</td>\n",
       "      <td>...</td>\n",
       "      <td>...</td>\n",
       "      <td>...</td>\n",
       "      <td>...</td>\n",
       "      <td>...</td>\n",
       "      <td>...</td>\n",
       "      <td>...</td>\n",
       "    </tr>\n",
       "    <tr>\n",
       "      <th>295</th>\n",
       "      <td>22.0</td>\n",
       "      <td>6</td>\n",
       "      <td>232.0</td>\n",
       "      <td>112</td>\n",
       "      <td>2835</td>\n",
       "      <td>14.7</td>\n",
       "      <td>82</td>\n",
       "      <td>1</td>\n",
       "      <td>ford granada l</td>\n",
       "    </tr>\n",
       "    <tr>\n",
       "      <th>296</th>\n",
       "      <td>18.0</td>\n",
       "      <td>6</td>\n",
       "      <td>250.0</td>\n",
       "      <td>78</td>\n",
       "      <td>3574</td>\n",
       "      <td>21.0</td>\n",
       "      <td>76</td>\n",
       "      <td>1</td>\n",
       "      <td>ford granada ghia</td>\n",
       "    </tr>\n",
       "    <tr>\n",
       "      <th>297</th>\n",
       "      <td>18.1</td>\n",
       "      <td>8</td>\n",
       "      <td>302.0</td>\n",
       "      <td>139</td>\n",
       "      <td>3205</td>\n",
       "      <td>11.2</td>\n",
       "      <td>78</td>\n",
       "      <td>1</td>\n",
       "      <td>ford futura</td>\n",
       "    </tr>\n",
       "    <tr>\n",
       "      <th>298</th>\n",
       "      <td>15.0</td>\n",
       "      <td>8</td>\n",
       "      <td>318.0</td>\n",
       "      <td>150</td>\n",
       "      <td>4135</td>\n",
       "      <td>13.5</td>\n",
       "      <td>72</td>\n",
       "      <td>1</td>\n",
       "      <td>plymouth fury iii</td>\n",
       "    </tr>\n",
       "    <tr>\n",
       "      <th>299</th>\n",
       "      <td>40.9</td>\n",
       "      <td>4</td>\n",
       "      <td>85.0</td>\n",
       "      <td>?</td>\n",
       "      <td>1835</td>\n",
       "      <td>17.3</td>\n",
       "      <td>80</td>\n",
       "      <td>2</td>\n",
       "      <td>renault lecar deluxe</td>\n",
       "    </tr>\n",
       "  </tbody>\n",
       "</table>\n",
       "<p>300 rows × 9 columns</p>\n",
       "</div>"
      ],
      "text/plain": [
       "      MPG  Cylinders  Displacement Horsepower  Weight  Acceleration  \\\n",
       "0    13.0          8         400.0        190    4422          12.5   \n",
       "1    13.0          8         350.0        145    3988          13.0   \n",
       "2    15.5          8         350.0        170    4165          11.4   \n",
       "3    17.0          6         231.0        110    3907          21.0   \n",
       "4    13.0          8         318.0        150    3755          14.0   \n",
       "..    ...        ...           ...        ...     ...           ...   \n",
       "295  22.0          6         232.0        112    2835          14.7   \n",
       "296  18.0          6         250.0         78    3574          21.0   \n",
       "297  18.1          8         302.0        139    3205          11.2   \n",
       "298  15.0          8         318.0        150    4135          13.5   \n",
       "299  40.9          4          85.0          ?    1835          17.3   \n",
       "\n",
       "     Model Year  Origin                      Car Name  \n",
       "0            72       1        chrysler newport royal  \n",
       "1            73       1              chevrolet malibu  \n",
       "2            77       1  chevrolet monte carlo landau  \n",
       "3            75       1                 buick century  \n",
       "4            76       1                    dodge d100  \n",
       "..          ...     ...                           ...  \n",
       "295          82       1                ford granada l  \n",
       "296          76       1             ford granada ghia  \n",
       "297          78       1                   ford futura  \n",
       "298          72       1             plymouth fury iii  \n",
       "299          80       2          renault lecar deluxe  \n",
       "\n",
       "[300 rows x 9 columns]"
      ]
     },
     "execution_count": 3,
     "metadata": {},
     "output_type": "execute_result"
    }
   ],
   "source": [
    "#displaying the dataset\n",
    "df"
   ]
  },
  {
   "cell_type": "code",
   "execution_count": 4,
   "id": "1c9cecd3",
   "metadata": {
    "execution": {
     "iopub.execute_input": "2023-07-07T08:19:08.511580Z",
     "iopub.status.busy": "2023-07-07T08:19:08.511068Z",
     "iopub.status.idle": "2023-07-07T08:19:08.517927Z",
     "shell.execute_reply": "2023-07-07T08:19:08.516709Z"
    },
    "papermill": {
     "duration": 0.02417,
     "end_time": "2023-07-07T08:19:08.520577",
     "exception": false,
     "start_time": "2023-07-07T08:19:08.496407",
     "status": "completed"
    },
    "tags": []
   },
   "outputs": [
    {
     "name": "stdout",
     "output_type": "stream",
     "text": [
      "Number of columns:  300\n",
      "Number of rows:  9\n"
     ]
    }
   ],
   "source": [
    "# displaying the number of rows and columns\n",
    "z=df.shape\n",
    "print(\"Number of columns: \", z[0])\n",
    "print(\"Number of rows: \", z[1])"
   ]
  },
  {
   "cell_type": "code",
   "execution_count": 5,
   "id": "989e5e0b",
   "metadata": {
    "execution": {
     "iopub.execute_input": "2023-07-07T08:19:08.549208Z",
     "iopub.status.busy": "2023-07-07T08:19:08.548713Z",
     "iopub.status.idle": "2023-07-07T08:19:08.577321Z",
     "shell.execute_reply": "2023-07-07T08:19:08.575733Z"
    },
    "papermill": {
     "duration": 0.046563,
     "end_time": "2023-07-07T08:19:08.580573",
     "exception": false,
     "start_time": "2023-07-07T08:19:08.534010",
     "status": "completed"
    },
    "tags": []
   },
   "outputs": [
    {
     "name": "stdout",
     "output_type": "stream",
     "text": [
      "<class 'pandas.core.frame.DataFrame'>\n",
      "RangeIndex: 300 entries, 0 to 299\n",
      "Data columns (total 9 columns):\n",
      " #   Column        Non-Null Count  Dtype  \n",
      "---  ------        --------------  -----  \n",
      " 0   MPG           300 non-null    float64\n",
      " 1   Cylinders     300 non-null    int64  \n",
      " 2   Displacement  300 non-null    float64\n",
      " 3   Horsepower    300 non-null    object \n",
      " 4   Weight        300 non-null    int64  \n",
      " 5   Acceleration  300 non-null    float64\n",
      " 6   Model Year    300 non-null    int64  \n",
      " 7   Origin        300 non-null    int64  \n",
      " 8   Car Name      300 non-null    object \n",
      "dtypes: float64(3), int64(4), object(2)\n",
      "memory usage: 21.2+ KB\n"
     ]
    }
   ],
   "source": [
    "df.info()"
   ]
  },
  {
   "cell_type": "markdown",
   "id": "f93e4289",
   "metadata": {
    "papermill": {
     "duration": 0.014039,
     "end_time": "2023-07-07T08:19:08.609295",
     "exception": false,
     "start_time": "2023-07-07T08:19:08.595256",
     "status": "completed"
    },
    "tags": []
   },
   "source": [
    "##### There are 300 entries in total and 300 non-null count in each column. Therefore, there are no null values in the dataset.\n",
    "##### The type of the 'horsepower' column is shown as object, which means there are some non-float values in that column."
   ]
  },
  {
   "cell_type": "code",
   "execution_count": 6,
   "id": "66308900",
   "metadata": {
    "execution": {
     "iopub.execute_input": "2023-07-07T08:19:08.639122Z",
     "iopub.status.busy": "2023-07-07T08:19:08.638359Z",
     "iopub.status.idle": "2023-07-07T08:19:08.671573Z",
     "shell.execute_reply": "2023-07-07T08:19:08.670431Z"
    },
    "papermill": {
     "duration": 0.051416,
     "end_time": "2023-07-07T08:19:08.674520",
     "exception": false,
     "start_time": "2023-07-07T08:19:08.623104",
     "status": "completed"
    },
    "tags": []
   },
   "outputs": [
    {
     "data": {
      "text/html": [
       "<div>\n",
       "<style scoped>\n",
       "    .dataframe tbody tr th:only-of-type {\n",
       "        vertical-align: middle;\n",
       "    }\n",
       "\n",
       "    .dataframe tbody tr th {\n",
       "        vertical-align: top;\n",
       "    }\n",
       "\n",
       "    .dataframe thead th {\n",
       "        text-align: right;\n",
       "    }\n",
       "</style>\n",
       "<table border=\"1\" class=\"dataframe\">\n",
       "  <thead>\n",
       "    <tr style=\"text-align: right;\">\n",
       "      <th></th>\n",
       "      <th>MPG</th>\n",
       "      <th>Cylinders</th>\n",
       "      <th>Displacement</th>\n",
       "      <th>Weight</th>\n",
       "      <th>Acceleration</th>\n",
       "      <th>Model Year</th>\n",
       "      <th>Origin</th>\n",
       "    </tr>\n",
       "  </thead>\n",
       "  <tbody>\n",
       "    <tr>\n",
       "      <th>count</th>\n",
       "      <td>300.000000</td>\n",
       "      <td>300.000000</td>\n",
       "      <td>300.000000</td>\n",
       "      <td>300.000000</td>\n",
       "      <td>300.000000</td>\n",
       "      <td>300.000000</td>\n",
       "      <td>300.000000</td>\n",
       "    </tr>\n",
       "    <tr>\n",
       "      <th>mean</th>\n",
       "      <td>23.679333</td>\n",
       "      <td>5.430000</td>\n",
       "      <td>192.118333</td>\n",
       "      <td>2952.820000</td>\n",
       "      <td>15.567000</td>\n",
       "      <td>76.043333</td>\n",
       "      <td>1.563333</td>\n",
       "    </tr>\n",
       "    <tr>\n",
       "      <th>std</th>\n",
       "      <td>7.803218</td>\n",
       "      <td>1.703361</td>\n",
       "      <td>104.711230</td>\n",
       "      <td>836.196298</td>\n",
       "      <td>2.811469</td>\n",
       "      <td>3.782744</td>\n",
       "      <td>0.792517</td>\n",
       "    </tr>\n",
       "    <tr>\n",
       "      <th>min</th>\n",
       "      <td>9.000000</td>\n",
       "      <td>3.000000</td>\n",
       "      <td>68.000000</td>\n",
       "      <td>1613.000000</td>\n",
       "      <td>8.000000</td>\n",
       "      <td>70.000000</td>\n",
       "      <td>1.000000</td>\n",
       "    </tr>\n",
       "    <tr>\n",
       "      <th>25%</th>\n",
       "      <td>17.000000</td>\n",
       "      <td>4.000000</td>\n",
       "      <td>98.000000</td>\n",
       "      <td>2219.750000</td>\n",
       "      <td>13.875000</td>\n",
       "      <td>73.000000</td>\n",
       "      <td>1.000000</td>\n",
       "    </tr>\n",
       "    <tr>\n",
       "      <th>50%</th>\n",
       "      <td>23.000000</td>\n",
       "      <td>4.000000</td>\n",
       "      <td>144.500000</td>\n",
       "      <td>2789.500000</td>\n",
       "      <td>15.500000</td>\n",
       "      <td>76.000000</td>\n",
       "      <td>1.000000</td>\n",
       "    </tr>\n",
       "    <tr>\n",
       "      <th>75%</th>\n",
       "      <td>29.000000</td>\n",
       "      <td>8.000000</td>\n",
       "      <td>263.250000</td>\n",
       "      <td>3565.750000</td>\n",
       "      <td>17.125000</td>\n",
       "      <td>79.000000</td>\n",
       "      <td>2.000000</td>\n",
       "    </tr>\n",
       "    <tr>\n",
       "      <th>max</th>\n",
       "      <td>44.600000</td>\n",
       "      <td>8.000000</td>\n",
       "      <td>455.000000</td>\n",
       "      <td>5140.000000</td>\n",
       "      <td>24.800000</td>\n",
       "      <td>82.000000</td>\n",
       "      <td>3.000000</td>\n",
       "    </tr>\n",
       "  </tbody>\n",
       "</table>\n",
       "</div>"
      ],
      "text/plain": [
       "              MPG   Cylinders  Displacement       Weight  Acceleration  \\\n",
       "count  300.000000  300.000000    300.000000   300.000000    300.000000   \n",
       "mean    23.679333    5.430000    192.118333  2952.820000     15.567000   \n",
       "std      7.803218    1.703361    104.711230   836.196298      2.811469   \n",
       "min      9.000000    3.000000     68.000000  1613.000000      8.000000   \n",
       "25%     17.000000    4.000000     98.000000  2219.750000     13.875000   \n",
       "50%     23.000000    4.000000    144.500000  2789.500000     15.500000   \n",
       "75%     29.000000    8.000000    263.250000  3565.750000     17.125000   \n",
       "max     44.600000    8.000000    455.000000  5140.000000     24.800000   \n",
       "\n",
       "       Model Year      Origin  \n",
       "count  300.000000  300.000000  \n",
       "mean    76.043333    1.563333  \n",
       "std      3.782744    0.792517  \n",
       "min     70.000000    1.000000  \n",
       "25%     73.000000    1.000000  \n",
       "50%     76.000000    1.000000  \n",
       "75%     79.000000    2.000000  \n",
       "max     82.000000    3.000000  "
      ]
     },
     "execution_count": 6,
     "metadata": {},
     "output_type": "execute_result"
    }
   ],
   "source": [
    "df.describe()"
   ]
  },
  {
   "cell_type": "code",
   "execution_count": 7,
   "id": "077cbd74",
   "metadata": {
    "execution": {
     "iopub.execute_input": "2023-07-07T08:19:08.705723Z",
     "iopub.status.busy": "2023-07-07T08:19:08.705069Z",
     "iopub.status.idle": "2023-07-07T08:19:08.724765Z",
     "shell.execute_reply": "2023-07-07T08:19:08.723511Z"
    },
    "papermill": {
     "duration": 0.037206,
     "end_time": "2023-07-07T08:19:08.727445",
     "exception": false,
     "start_time": "2023-07-07T08:19:08.690239",
     "status": "completed"
    },
    "tags": []
   },
   "outputs": [
    {
     "name": "stdout",
     "output_type": "stream",
     "text": [
      "Top 5 Correlated Features with MPG:\n",
      "MPG             1.000000\n",
      "Model Year      0.575630\n",
      "Origin          0.561089\n",
      "Acceleration    0.453749\n",
      "Cylinders      -0.798505\n",
      "Name: MPG, dtype: float64 \n",
      "\n",
      "Top 5 Uncorrelated Features with MPG:\n",
      "Origin          0.561089\n",
      "Acceleration    0.453749\n",
      "Cylinders      -0.798505\n",
      "Displacement   -0.818860\n",
      "Weight         -0.837118\n",
      "Name: MPG, dtype: float64\n"
     ]
    },
    {
     "data": {
      "text/plain": [
       "(None, None)"
      ]
     },
     "execution_count": 7,
     "metadata": {},
     "output_type": "execute_result"
    }
   ],
   "source": [
    "#Let's review the relationship between the columns to examine the correlations between the features and the target.\n",
    "numeric_cols = df.select_dtypes(include = [np.number])\n",
    "corr = numeric_cols.corr()\n",
    "print ('Top 5 Correlated Features with MPG:'), print (corr['MPG'].sort_values(ascending = False)[:5], '\\n')\n",
    "print ('Top 5 Uncorrelated Features with MPG:'), print (corr['MPG'].sort_values(ascending = False)[-5:])"
   ]
  },
  {
   "cell_type": "code",
   "execution_count": 8,
   "id": "5f5fb659",
   "metadata": {
    "execution": {
     "iopub.execute_input": "2023-07-07T08:19:08.757532Z",
     "iopub.status.busy": "2023-07-07T08:19:08.756665Z",
     "iopub.status.idle": "2023-07-07T08:19:09.006852Z",
     "shell.execute_reply": "2023-07-07T08:19:09.005437Z"
    },
    "papermill": {
     "duration": 0.268294,
     "end_time": "2023-07-07T08:19:09.009514",
     "exception": false,
     "start_time": "2023-07-07T08:19:08.741220",
     "status": "completed"
    },
    "tags": []
   },
   "outputs": [
    {
     "data": {
      "text/plain": [
       "Text(0.5, 0, 'Acceleration')"
      ]
     },
     "execution_count": 8,
     "metadata": {},
     "output_type": "execute_result"
    },
    {
     "data": {
      "image/png": "[encoded data removed]",
      "text/plain": [
       "<Figure size 432x288 with 1 Axes>"
      ]
     },
     "metadata": {
      "needs_background": "light"
     },
     "output_type": "display_data"
    }
   ],
   "source": [
    "plt.scatter(x = df['Acceleration'], y = df['MPG'])\n",
    "plt.ylabel('MPG')\n",
    "plt.xlabel('Acceleration')"
   ]
  },
  {
   "cell_type": "markdown",
   "id": "c66de0a3",
   "metadata": {
    "papermill": {
     "duration": 0.014208,
     "end_time": "2023-07-07T08:19:09.037754",
     "exception": false,
     "start_time": "2023-07-07T08:19:09.023546",
     "status": "completed"
    },
    "tags": []
   },
   "source": [
    "##### to a certain extent, MPG increases with acceleration."
   ]
  },
  {
   "cell_type": "code",
   "execution_count": 9,
   "id": "86c2b5be",
   "metadata": {
    "execution": {
     "iopub.execute_input": "2023-07-07T08:19:09.067589Z",
     "iopub.status.busy": "2023-07-07T08:19:09.067186Z",
     "iopub.status.idle": "2023-07-07T08:19:09.272587Z",
     "shell.execute_reply": "2023-07-07T08:19:09.271056Z"
    },
    "papermill": {
     "duration": 0.223788,
     "end_time": "2023-07-07T08:19:09.275585",
     "exception": false,
     "start_time": "2023-07-07T08:19:09.051797",
     "status": "completed"
    },
    "tags": []
   },
   "outputs": [
    {
     "data": {
      "text/plain": [
       "Text(0.5, 0, 'Weight')"
      ]
     },
     "execution_count": 9,
     "metadata": {},
     "output_type": "execute_result"
    },
    {
     "data": {
      "image/png": "[encoded data removed]",
      "text/plain": [
       "<Figure size 432x288 with 1 Axes>"
      ]
     },
     "metadata": {
      "needs_background": "light"
     },
     "output_type": "display_data"
    }
   ],
   "source": [
    "plt.scatter(x = df['Weight'], y = df['MPG'])\n",
    "plt.ylabel('MPG')\n",
    "plt.xlabel('Weight')"
   ]
  },
  {
   "cell_type": "markdown",
   "id": "d4824ce0",
   "metadata": {
    "papermill": {
     "duration": 0.015279,
     "end_time": "2023-07-07T08:19:09.306217",
     "exception": false,
     "start_time": "2023-07-07T08:19:09.290938",
     "status": "completed"
    },
    "tags": []
   },
   "source": [
    "##### MPG decreases with an increase in weight.\n",
    "##### We can conclude that: the more the weight, the less the fuel efficiency."
   ]
  },
  {
   "cell_type": "code",
   "execution_count": 10,
   "id": "ff2f6933",
   "metadata": {
    "execution": {
     "iopub.execute_input": "2023-07-07T08:19:09.338462Z",
     "iopub.status.busy": "2023-07-07T08:19:09.338059Z",
     "iopub.status.idle": "2023-07-07T08:19:09.627653Z",
     "shell.execute_reply": "2023-07-07T08:19:09.626703Z"
    },
    "papermill": {
     "duration": 0.308724,
     "end_time": "2023-07-07T08:19:09.630248",
     "exception": false,
     "start_time": "2023-07-07T08:19:09.321524",
     "status": "completed"
    },
    "tags": []
   },
   "outputs": [
    {
     "data": {
      "text/plain": [
       "<AxesSubplot:xlabel='MPG', ylabel='Density'>"
      ]
     },
     "execution_count": 10,
     "metadata": {},
     "output_type": "execute_result"
    },
    {
     "data": {
      "image/png": "[encoded data removed]",
      "text/plain": [
       "<Figure size 864x432 with 1 Axes>"
      ]
     },
     "metadata": {
      "needs_background": "light"
     },
     "output_type": "display_data"
    }
   ],
   "source": [
    "import warnings\n",
    "warnings.simplefilter(action='ignore', category=FutureWarning)\n",
    "\n",
    "plt.figure(figsize=(12,6))\n",
    "sns.distplot(df['MPG'], hist=True, kde=True, \n",
    "             bins=int(180/5), color = 'darkblue', \n",
    "             hist_kws={'edgecolor':'black'},\n",
    "             kde_kws={'linewidth': 4})"
   ]
  },
  {
   "cell_type": "markdown",
   "id": "ebdbb50d",
   "metadata": {
    "papermill": {
     "duration": 0.015193,
     "end_time": "2023-07-07T08:19:09.661587",
     "exception": false,
     "start_time": "2023-07-07T08:19:09.646394",
     "status": "completed"
    },
    "tags": []
   },
   "source": [
    "##### This is a right, ie, positive skewed graph."
   ]
  },
  {
   "cell_type": "markdown",
   "id": "540977e4",
   "metadata": {
    "papermill": {
     "duration": 0.017687,
     "end_time": "2023-07-07T08:19:09.695208",
     "exception": false,
     "start_time": "2023-07-07T08:19:09.677521",
     "status": "completed"
    },
    "tags": []
   },
   "source": [
    "### Preprocessing"
   ]
  },
  {
   "cell_type": "code",
   "execution_count": 11,
   "id": "79ac7491",
   "metadata": {
    "execution": {
     "iopub.execute_input": "2023-07-07T08:19:09.730819Z",
     "iopub.status.busy": "2023-07-07T08:19:09.729326Z",
     "iopub.status.idle": "2023-07-07T08:19:09.752599Z",
     "shell.execute_reply": "2023-07-07T08:19:09.751434Z"
    },
    "papermill": {
     "duration": 0.044318,
     "end_time": "2023-07-07T08:19:09.755708",
     "exception": false,
     "start_time": "2023-07-07T08:19:09.711390",
     "status": "completed"
    },
    "tags": []
   },
   "outputs": [
    {
     "data": {
      "text/html": [
       "<div>\n",
       "<style scoped>\n",
       "    .dataframe tbody tr th:only-of-type {\n",
       "        vertical-align: middle;\n",
       "    }\n",
       "\n",
       "    .dataframe tbody tr th {\n",
       "        vertical-align: top;\n",
       "    }\n",
       "\n",
       "    .dataframe thead th {\n",
       "        text-align: right;\n",
       "    }\n",
       "</style>\n",
       "<table border=\"1\" class=\"dataframe\">\n",
       "  <thead>\n",
       "    <tr style=\"text-align: right;\">\n",
       "      <th></th>\n",
       "      <th>MPG</th>\n",
       "      <th>Cylinders</th>\n",
       "      <th>Displacement</th>\n",
       "      <th>Horsepower</th>\n",
       "      <th>Weight</th>\n",
       "      <th>Acceleration</th>\n",
       "      <th>Model Year</th>\n",
       "      <th>Origin</th>\n",
       "      <th>Car Name</th>\n",
       "    </tr>\n",
       "  </thead>\n",
       "  <tbody>\n",
       "    <tr>\n",
       "      <th>0</th>\n",
       "      <td>13.0</td>\n",
       "      <td>8</td>\n",
       "      <td>400.0</td>\n",
       "      <td>190</td>\n",
       "      <td>4422</td>\n",
       "      <td>12.5</td>\n",
       "      <td>72</td>\n",
       "      <td>1</td>\n",
       "      <td>chrysler newport royal</td>\n",
       "    </tr>\n",
       "    <tr>\n",
       "      <th>1</th>\n",
       "      <td>13.0</td>\n",
       "      <td>8</td>\n",
       "      <td>350.0</td>\n",
       "      <td>145</td>\n",
       "      <td>3988</td>\n",
       "      <td>13.0</td>\n",
       "      <td>73</td>\n",
       "      <td>1</td>\n",
       "      <td>chevrolet malibu</td>\n",
       "    </tr>\n",
       "    <tr>\n",
       "      <th>2</th>\n",
       "      <td>15.5</td>\n",
       "      <td>8</td>\n",
       "      <td>350.0</td>\n",
       "      <td>170</td>\n",
       "      <td>4165</td>\n",
       "      <td>11.4</td>\n",
       "      <td>77</td>\n",
       "      <td>1</td>\n",
       "      <td>chevrolet monte carlo landau</td>\n",
       "    </tr>\n",
       "    <tr>\n",
       "      <th>3</th>\n",
       "      <td>17.0</td>\n",
       "      <td>6</td>\n",
       "      <td>231.0</td>\n",
       "      <td>110</td>\n",
       "      <td>3907</td>\n",
       "      <td>21.0</td>\n",
       "      <td>75</td>\n",
       "      <td>1</td>\n",
       "      <td>buick century</td>\n",
       "    </tr>\n",
       "    <tr>\n",
       "      <th>4</th>\n",
       "      <td>13.0</td>\n",
       "      <td>8</td>\n",
       "      <td>318.0</td>\n",
       "      <td>150</td>\n",
       "      <td>3755</td>\n",
       "      <td>14.0</td>\n",
       "      <td>76</td>\n",
       "      <td>1</td>\n",
       "      <td>dodge d100</td>\n",
       "    </tr>\n",
       "    <tr>\n",
       "      <th>...</th>\n",
       "      <td>...</td>\n",
       "      <td>...</td>\n",
       "      <td>...</td>\n",
       "      <td>...</td>\n",
       "      <td>...</td>\n",
       "      <td>...</td>\n",
       "      <td>...</td>\n",
       "      <td>...</td>\n",
       "      <td>...</td>\n",
       "    </tr>\n",
       "    <tr>\n",
       "      <th>295</th>\n",
       "      <td>22.0</td>\n",
       "      <td>6</td>\n",
       "      <td>232.0</td>\n",
       "      <td>112</td>\n",
       "      <td>2835</td>\n",
       "      <td>14.7</td>\n",
       "      <td>82</td>\n",
       "      <td>1</td>\n",
       "      <td>ford granada l</td>\n",
       "    </tr>\n",
       "    <tr>\n",
       "      <th>296</th>\n",
       "      <td>18.0</td>\n",
       "      <td>6</td>\n",
       "      <td>250.0</td>\n",
       "      <td>78</td>\n",
       "      <td>3574</td>\n",
       "      <td>21.0</td>\n",
       "      <td>76</td>\n",
       "      <td>1</td>\n",
       "      <td>ford granada ghia</td>\n",
       "    </tr>\n",
       "    <tr>\n",
       "      <th>297</th>\n",
       "      <td>18.1</td>\n",
       "      <td>8</td>\n",
       "      <td>302.0</td>\n",
       "      <td>139</td>\n",
       "      <td>3205</td>\n",
       "      <td>11.2</td>\n",
       "      <td>78</td>\n",
       "      <td>1</td>\n",
       "      <td>ford futura</td>\n",
       "    </tr>\n",
       "    <tr>\n",
       "      <th>298</th>\n",
       "      <td>15.0</td>\n",
       "      <td>8</td>\n",
       "      <td>318.0</td>\n",
       "      <td>150</td>\n",
       "      <td>4135</td>\n",
       "      <td>13.5</td>\n",
       "      <td>72</td>\n",
       "      <td>1</td>\n",
       "      <td>plymouth fury iii</td>\n",
       "    </tr>\n",
       "    <tr>\n",
       "      <th>299</th>\n",
       "      <td>40.9</td>\n",
       "      <td>4</td>\n",
       "      <td>85.0</td>\n",
       "      <td>?</td>\n",
       "      <td>1835</td>\n",
       "      <td>17.3</td>\n",
       "      <td>80</td>\n",
       "      <td>2</td>\n",
       "      <td>renault lecar deluxe</td>\n",
       "    </tr>\n",
       "  </tbody>\n",
       "</table>\n",
       "<p>300 rows × 9 columns</p>\n",
       "</div>"
      ],
      "text/plain": [
       "      MPG  Cylinders  Displacement Horsepower  Weight  Acceleration  \\\n",
       "0    13.0          8         400.0        190    4422          12.5   \n",
       "1    13.0          8         350.0        145    3988          13.0   \n",
       "2    15.5          8         350.0        170    4165          11.4   \n",
       "3    17.0          6         231.0        110    3907          21.0   \n",
       "4    13.0          8         318.0        150    3755          14.0   \n",
       "..    ...        ...           ...        ...     ...           ...   \n",
       "295  22.0          6         232.0        112    2835          14.7   \n",
       "296  18.0          6         250.0         78    3574          21.0   \n",
       "297  18.1          8         302.0        139    3205          11.2   \n",
       "298  15.0          8         318.0        150    4135          13.5   \n",
       "299  40.9          4          85.0          ?    1835          17.3   \n",
       "\n",
       "     Model Year  Origin                      Car Name  \n",
       "0            72       1        chrysler newport royal  \n",
       "1            73       1              chevrolet malibu  \n",
       "2            77       1  chevrolet monte carlo landau  \n",
       "3            75       1                 buick century  \n",
       "4            76       1                    dodge d100  \n",
       "..          ...     ...                           ...  \n",
       "295          82       1                ford granada l  \n",
       "296          76       1             ford granada ghia  \n",
       "297          78       1                   ford futura  \n",
       "298          72       1             plymouth fury iii  \n",
       "299          80       2          renault lecar deluxe  \n",
       "\n",
       "[300 rows x 9 columns]"
      ]
     },
     "execution_count": 11,
     "metadata": {},
     "output_type": "execute_result"
    }
   ],
   "source": [
    "df #original dataset"
   ]
  },
  {
   "cell_type": "code",
   "execution_count": 12,
   "id": "dbb024e5",
   "metadata": {
    "execution": {
     "iopub.execute_input": "2023-07-07T08:19:09.789847Z",
     "iopub.status.busy": "2023-07-07T08:19:09.789414Z",
     "iopub.status.idle": "2023-07-07T08:19:09.795465Z",
     "shell.execute_reply": "2023-07-07T08:19:09.794090Z"
    },
    "papermill": {
     "duration": 0.026189,
     "end_time": "2023-07-07T08:19:09.797882",
     "exception": false,
     "start_time": "2023-07-07T08:19:09.771693",
     "status": "completed"
    },
    "tags": []
   },
   "outputs": [],
   "source": [
    "data = df.copy()  # making a copy of the dataframe so that the changes made here wont affect the original dataset"
   ]
  },
  {
   "cell_type": "code",
   "execution_count": 13,
   "id": "22e31a5d",
   "metadata": {
    "execution": {
     "iopub.execute_input": "2023-07-07T08:19:09.832068Z",
     "iopub.status.busy": "2023-07-07T08:19:09.831532Z",
     "iopub.status.idle": "2023-07-07T08:19:09.857555Z",
     "shell.execute_reply": "2023-07-07T08:19:09.856595Z"
    },
    "papermill": {
     "duration": 0.046026,
     "end_time": "2023-07-07T08:19:09.859825",
     "exception": false,
     "start_time": "2023-07-07T08:19:09.813799",
     "status": "completed"
    },
    "tags": []
   },
   "outputs": [
    {
     "data": {
      "text/html": [
       "<div>\n",
       "<style scoped>\n",
       "    .dataframe tbody tr th:only-of-type {\n",
       "        vertical-align: middle;\n",
       "    }\n",
       "\n",
       "    .dataframe tbody tr th {\n",
       "        vertical-align: top;\n",
       "    }\n",
       "\n",
       "    .dataframe thead th {\n",
       "        text-align: right;\n",
       "    }\n",
       "</style>\n",
       "<table border=\"1\" class=\"dataframe\">\n",
       "  <thead>\n",
       "    <tr style=\"text-align: right;\">\n",
       "      <th></th>\n",
       "      <th>MPG</th>\n",
       "      <th>Cylinders</th>\n",
       "      <th>Displacement</th>\n",
       "      <th>Horsepower</th>\n",
       "      <th>Weight</th>\n",
       "      <th>Acceleration</th>\n",
       "      <th>Model Year</th>\n",
       "      <th>Origin</th>\n",
       "      <th>Car Name</th>\n",
       "    </tr>\n",
       "  </thead>\n",
       "  <tbody>\n",
       "    <tr>\n",
       "      <th>0</th>\n",
       "      <td>13.0</td>\n",
       "      <td>8</td>\n",
       "      <td>400.0</td>\n",
       "      <td>190</td>\n",
       "      <td>4422</td>\n",
       "      <td>12.5</td>\n",
       "      <td>72</td>\n",
       "      <td>1</td>\n",
       "      <td>chrysler newport royal</td>\n",
       "    </tr>\n",
       "    <tr>\n",
       "      <th>1</th>\n",
       "      <td>13.0</td>\n",
       "      <td>8</td>\n",
       "      <td>350.0</td>\n",
       "      <td>145</td>\n",
       "      <td>3988</td>\n",
       "      <td>13.0</td>\n",
       "      <td>73</td>\n",
       "      <td>1</td>\n",
       "      <td>chevrolet malibu</td>\n",
       "    </tr>\n",
       "    <tr>\n",
       "      <th>2</th>\n",
       "      <td>15.5</td>\n",
       "      <td>8</td>\n",
       "      <td>350.0</td>\n",
       "      <td>170</td>\n",
       "      <td>4165</td>\n",
       "      <td>11.4</td>\n",
       "      <td>77</td>\n",
       "      <td>1</td>\n",
       "      <td>chevrolet monte carlo landau</td>\n",
       "    </tr>\n",
       "    <tr>\n",
       "      <th>3</th>\n",
       "      <td>17.0</td>\n",
       "      <td>6</td>\n",
       "      <td>231.0</td>\n",
       "      <td>110</td>\n",
       "      <td>3907</td>\n",
       "      <td>21.0</td>\n",
       "      <td>75</td>\n",
       "      <td>1</td>\n",
       "      <td>buick century</td>\n",
       "    </tr>\n",
       "    <tr>\n",
       "      <th>4</th>\n",
       "      <td>13.0</td>\n",
       "      <td>8</td>\n",
       "      <td>318.0</td>\n",
       "      <td>150</td>\n",
       "      <td>3755</td>\n",
       "      <td>14.0</td>\n",
       "      <td>76</td>\n",
       "      <td>1</td>\n",
       "      <td>dodge d100</td>\n",
       "    </tr>\n",
       "    <tr>\n",
       "      <th>...</th>\n",
       "      <td>...</td>\n",
       "      <td>...</td>\n",
       "      <td>...</td>\n",
       "      <td>...</td>\n",
       "      <td>...</td>\n",
       "      <td>...</td>\n",
       "      <td>...</td>\n",
       "      <td>...</td>\n",
       "      <td>...</td>\n",
       "    </tr>\n",
       "    <tr>\n",
       "      <th>295</th>\n",
       "      <td>22.0</td>\n",
       "      <td>6</td>\n",
       "      <td>232.0</td>\n",
       "      <td>112</td>\n",
       "      <td>2835</td>\n",
       "      <td>14.7</td>\n",
       "      <td>82</td>\n",
       "      <td>1</td>\n",
       "      <td>ford granada l</td>\n",
       "    </tr>\n",
       "    <tr>\n",
       "      <th>296</th>\n",
       "      <td>18.0</td>\n",
       "      <td>6</td>\n",
       "      <td>250.0</td>\n",
       "      <td>78</td>\n",
       "      <td>3574</td>\n",
       "      <td>21.0</td>\n",
       "      <td>76</td>\n",
       "      <td>1</td>\n",
       "      <td>ford granada ghia</td>\n",
       "    </tr>\n",
       "    <tr>\n",
       "      <th>297</th>\n",
       "      <td>18.1</td>\n",
       "      <td>8</td>\n",
       "      <td>302.0</td>\n",
       "      <td>139</td>\n",
       "      <td>3205</td>\n",
       "      <td>11.2</td>\n",
       "      <td>78</td>\n",
       "      <td>1</td>\n",
       "      <td>ford futura</td>\n",
       "    </tr>\n",
       "    <tr>\n",
       "      <th>298</th>\n",
       "      <td>15.0</td>\n",
       "      <td>8</td>\n",
       "      <td>318.0</td>\n",
       "      <td>150</td>\n",
       "      <td>4135</td>\n",
       "      <td>13.5</td>\n",
       "      <td>72</td>\n",
       "      <td>1</td>\n",
       "      <td>plymouth fury iii</td>\n",
       "    </tr>\n",
       "    <tr>\n",
       "      <th>299</th>\n",
       "      <td>40.9</td>\n",
       "      <td>4</td>\n",
       "      <td>85.0</td>\n",
       "      <td>?</td>\n",
       "      <td>1835</td>\n",
       "      <td>17.3</td>\n",
       "      <td>80</td>\n",
       "      <td>2</td>\n",
       "      <td>renault lecar deluxe</td>\n",
       "    </tr>\n",
       "  </tbody>\n",
       "</table>\n",
       "<p>300 rows × 9 columns</p>\n",
       "</div>"
      ],
      "text/plain": [
       "      MPG  Cylinders  Displacement Horsepower  Weight  Acceleration  \\\n",
       "0    13.0          8         400.0        190    4422          12.5   \n",
       "1    13.0          8         350.0        145    3988          13.0   \n",
       "2    15.5          8         350.0        170    4165          11.4   \n",
       "3    17.0          6         231.0        110    3907          21.0   \n",
       "4    13.0          8         318.0        150    3755          14.0   \n",
       "..    ...        ...           ...        ...     ...           ...   \n",
       "295  22.0          6         232.0        112    2835          14.7   \n",
       "296  18.0          6         250.0         78    3574          21.0   \n",
       "297  18.1          8         302.0        139    3205          11.2   \n",
       "298  15.0          8         318.0        150    4135          13.5   \n",
       "299  40.9          4          85.0          ?    1835          17.3   \n",
       "\n",
       "     Model Year  Origin                      Car Name  \n",
       "0            72       1        chrysler newport royal  \n",
       "1            73       1              chevrolet malibu  \n",
       "2            77       1  chevrolet monte carlo landau  \n",
       "3            75       1                 buick century  \n",
       "4            76       1                    dodge d100  \n",
       "..          ...     ...                           ...  \n",
       "295          82       1                ford granada l  \n",
       "296          76       1             ford granada ghia  \n",
       "297          78       1                   ford futura  \n",
       "298          72       1             plymouth fury iii  \n",
       "299          80       2          renault lecar deluxe  \n",
       "\n",
       "[300 rows x 9 columns]"
      ]
     },
     "execution_count": 13,
     "metadata": {},
     "output_type": "execute_result"
    }
   ],
   "source": [
    "data #copied dataset"
   ]
  },
  {
   "cell_type": "code",
   "execution_count": 14,
   "id": "f4291a44",
   "metadata": {
    "execution": {
     "iopub.execute_input": "2023-07-07T08:19:09.893864Z",
     "iopub.status.busy": "2023-07-07T08:19:09.893292Z",
     "iopub.status.idle": "2023-07-07T08:19:09.904239Z",
     "shell.execute_reply": "2023-07-07T08:19:09.903373Z"
    },
    "papermill": {
     "duration": 0.030845,
     "end_time": "2023-07-07T08:19:09.906661",
     "exception": false,
     "start_time": "2023-07-07T08:19:09.875816",
     "status": "completed"
    },
    "tags": []
   },
   "outputs": [
    {
     "data": {
      "text/plain": [
       "MPG             0\n",
       "Cylinders       0\n",
       "Displacement    0\n",
       "Horsepower      6\n",
       "Weight          0\n",
       "Acceleration    0\n",
       "Model Year      0\n",
       "Origin          0\n",
       "Car Name        0\n",
       "dtype: int64"
      ]
     },
     "execution_count": 14,
     "metadata": {},
     "output_type": "execute_result"
    }
   ],
   "source": [
    "(data == \"?\").sum(axis=0)\n",
    "#the horsepower column had the type object, this is why"
   ]
  },
  {
   "cell_type": "code",
   "execution_count": 15,
   "id": "a7684faf",
   "metadata": {
    "execution": {
     "iopub.execute_input": "2023-07-07T08:19:09.942123Z",
     "iopub.status.busy": "2023-07-07T08:19:09.941580Z",
     "iopub.status.idle": "2023-07-07T08:19:09.950502Z",
     "shell.execute_reply": "2023-07-07T08:19:09.949293Z"
    },
    "papermill": {
     "duration": 0.030107,
     "end_time": "2023-07-07T08:19:09.953353",
     "exception": false,
     "start_time": "2023-07-07T08:19:09.923246",
     "status": "completed"
    },
    "tags": []
   },
   "outputs": [],
   "source": [
    "data['Horsepower'] = data['Horsepower'].replace('?', np.NaN).astype(float) #replacing the ? with NaN values as type float\n",
    "data['Horsepower'] = data['Horsepower'].fillna(data['Horsepower'].mean())  #filling the missing NaN cells with the mean value of the horsepower column"
   ]
  },
  {
   "cell_type": "code",
   "execution_count": 16,
   "id": "ef9f4769",
   "metadata": {
    "execution": {
     "iopub.execute_input": "2023-07-07T08:19:09.989429Z",
     "iopub.status.busy": "2023-07-07T08:19:09.988811Z",
     "iopub.status.idle": "2023-07-07T08:19:09.996327Z",
     "shell.execute_reply": "2023-07-07T08:19:09.995348Z"
    },
    "papermill": {
     "duration": 0.02824,
     "end_time": "2023-07-07T08:19:09.998546",
     "exception": false,
     "start_time": "2023-07-07T08:19:09.970306",
     "status": "completed"
    },
    "tags": []
   },
   "outputs": [
    {
     "data": {
      "text/plain": [
       "244"
      ]
     },
     "execution_count": 16,
     "metadata": {},
     "output_type": "execute_result"
    }
   ],
   "source": [
    "len(data['Car Name'].unique()) "
   ]
  },
  {
   "cell_type": "markdown",
   "id": "5927a007",
   "metadata": {
    "papermill": {
     "duration": 0.016766,
     "end_time": "2023-07-07T08:19:10.033135",
     "exception": false,
     "start_time": "2023-07-07T08:19:10.016369",
     "status": "completed"
    },
    "tags": []
   },
   "source": [
    "There are some duplicates in the 'Car Name' column"
   ]
  },
  {
   "cell_type": "markdown",
   "id": "4a1c211e",
   "metadata": {
    "papermill": {
     "duration": 0.015618,
     "end_time": "2023-07-07T08:19:10.065467",
     "exception": false,
     "start_time": "2023-07-07T08:19:10.049849",
     "status": "completed"
    },
    "tags": []
   },
   "source": [
    "To perform one hot encoding of the Car Names, only the first word, ie, the company needs to be taken."
   ]
  },
  {
   "cell_type": "code",
   "execution_count": 17,
   "id": "0e65a361",
   "metadata": {
    "execution": {
     "iopub.execute_input": "2023-07-07T08:19:10.100705Z",
     "iopub.status.busy": "2023-07-07T08:19:10.099344Z",
     "iopub.status.idle": "2023-07-07T08:19:10.127454Z",
     "shell.execute_reply": "2023-07-07T08:19:10.126490Z"
    },
    "papermill": {
     "duration": 0.048435,
     "end_time": "2023-07-07T08:19:10.129894",
     "exception": false,
     "start_time": "2023-07-07T08:19:10.081459",
     "status": "completed"
    },
    "tags": []
   },
   "outputs": [
    {
     "data": {
      "text/html": [
       "<div>\n",
       "<style scoped>\n",
       "    .dataframe tbody tr th:only-of-type {\n",
       "        vertical-align: middle;\n",
       "    }\n",
       "\n",
       "    .dataframe tbody tr th {\n",
       "        vertical-align: top;\n",
       "    }\n",
       "\n",
       "    .dataframe thead th {\n",
       "        text-align: right;\n",
       "    }\n",
       "</style>\n",
       "<table border=\"1\" class=\"dataframe\">\n",
       "  <thead>\n",
       "    <tr style=\"text-align: right;\">\n",
       "      <th></th>\n",
       "      <th>MPG</th>\n",
       "      <th>Cylinders</th>\n",
       "      <th>Displacement</th>\n",
       "      <th>Horsepower</th>\n",
       "      <th>Weight</th>\n",
       "      <th>Acceleration</th>\n",
       "      <th>Model Year</th>\n",
       "      <th>Origin</th>\n",
       "      <th>Company</th>\n",
       "    </tr>\n",
       "  </thead>\n",
       "  <tbody>\n",
       "    <tr>\n",
       "      <th>0</th>\n",
       "      <td>13.0</td>\n",
       "      <td>8</td>\n",
       "      <td>400.0</td>\n",
       "      <td>190.000000</td>\n",
       "      <td>4422</td>\n",
       "      <td>12.5</td>\n",
       "      <td>72</td>\n",
       "      <td>1</td>\n",
       "      <td>chrysler</td>\n",
       "    </tr>\n",
       "    <tr>\n",
       "      <th>1</th>\n",
       "      <td>13.0</td>\n",
       "      <td>8</td>\n",
       "      <td>350.0</td>\n",
       "      <td>145.000000</td>\n",
       "      <td>3988</td>\n",
       "      <td>13.0</td>\n",
       "      <td>73</td>\n",
       "      <td>1</td>\n",
       "      <td>chevrolet</td>\n",
       "    </tr>\n",
       "    <tr>\n",
       "      <th>2</th>\n",
       "      <td>15.5</td>\n",
       "      <td>8</td>\n",
       "      <td>350.0</td>\n",
       "      <td>170.000000</td>\n",
       "      <td>4165</td>\n",
       "      <td>11.4</td>\n",
       "      <td>77</td>\n",
       "      <td>1</td>\n",
       "      <td>chevrolet</td>\n",
       "    </tr>\n",
       "    <tr>\n",
       "      <th>3</th>\n",
       "      <td>17.0</td>\n",
       "      <td>6</td>\n",
       "      <td>231.0</td>\n",
       "      <td>110.000000</td>\n",
       "      <td>3907</td>\n",
       "      <td>21.0</td>\n",
       "      <td>75</td>\n",
       "      <td>1</td>\n",
       "      <td>buick</td>\n",
       "    </tr>\n",
       "    <tr>\n",
       "      <th>4</th>\n",
       "      <td>13.0</td>\n",
       "      <td>8</td>\n",
       "      <td>318.0</td>\n",
       "      <td>150.000000</td>\n",
       "      <td>3755</td>\n",
       "      <td>14.0</td>\n",
       "      <td>76</td>\n",
       "      <td>1</td>\n",
       "      <td>dodge</td>\n",
       "    </tr>\n",
       "    <tr>\n",
       "      <th>...</th>\n",
       "      <td>...</td>\n",
       "      <td>...</td>\n",
       "      <td>...</td>\n",
       "      <td>...</td>\n",
       "      <td>...</td>\n",
       "      <td>...</td>\n",
       "      <td>...</td>\n",
       "      <td>...</td>\n",
       "      <td>...</td>\n",
       "    </tr>\n",
       "    <tr>\n",
       "      <th>295</th>\n",
       "      <td>22.0</td>\n",
       "      <td>6</td>\n",
       "      <td>232.0</td>\n",
       "      <td>112.000000</td>\n",
       "      <td>2835</td>\n",
       "      <td>14.7</td>\n",
       "      <td>82</td>\n",
       "      <td>1</td>\n",
       "      <td>ford</td>\n",
       "    </tr>\n",
       "    <tr>\n",
       "      <th>296</th>\n",
       "      <td>18.0</td>\n",
       "      <td>6</td>\n",
       "      <td>250.0</td>\n",
       "      <td>78.000000</td>\n",
       "      <td>3574</td>\n",
       "      <td>21.0</td>\n",
       "      <td>76</td>\n",
       "      <td>1</td>\n",
       "      <td>ford</td>\n",
       "    </tr>\n",
       "    <tr>\n",
       "      <th>297</th>\n",
       "      <td>18.1</td>\n",
       "      <td>8</td>\n",
       "      <td>302.0</td>\n",
       "      <td>139.000000</td>\n",
       "      <td>3205</td>\n",
       "      <td>11.2</td>\n",
       "      <td>78</td>\n",
       "      <td>1</td>\n",
       "      <td>ford</td>\n",
       "    </tr>\n",
       "    <tr>\n",
       "      <th>298</th>\n",
       "      <td>15.0</td>\n",
       "      <td>8</td>\n",
       "      <td>318.0</td>\n",
       "      <td>150.000000</td>\n",
       "      <td>4135</td>\n",
       "      <td>13.5</td>\n",
       "      <td>72</td>\n",
       "      <td>1</td>\n",
       "      <td>plymouth</td>\n",
       "    </tr>\n",
       "    <tr>\n",
       "      <th>299</th>\n",
       "      <td>40.9</td>\n",
       "      <td>4</td>\n",
       "      <td>85.0</td>\n",
       "      <td>104.357143</td>\n",
       "      <td>1835</td>\n",
       "      <td>17.3</td>\n",
       "      <td>80</td>\n",
       "      <td>2</td>\n",
       "      <td>renault</td>\n",
       "    </tr>\n",
       "  </tbody>\n",
       "</table>\n",
       "<p>300 rows × 9 columns</p>\n",
       "</div>"
      ],
      "text/plain": [
       "      MPG  Cylinders  Displacement  Horsepower  Weight  Acceleration  \\\n",
       "0    13.0          8         400.0  190.000000    4422          12.5   \n",
       "1    13.0          8         350.0  145.000000    3988          13.0   \n",
       "2    15.5          8         350.0  170.000000    4165          11.4   \n",
       "3    17.0          6         231.0  110.000000    3907          21.0   \n",
       "4    13.0          8         318.0  150.000000    3755          14.0   \n",
       "..    ...        ...           ...         ...     ...           ...   \n",
       "295  22.0          6         232.0  112.000000    2835          14.7   \n",
       "296  18.0          6         250.0   78.000000    3574          21.0   \n",
       "297  18.1          8         302.0  139.000000    3205          11.2   \n",
       "298  15.0          8         318.0  150.000000    4135          13.5   \n",
       "299  40.9          4          85.0  104.357143    1835          17.3   \n",
       "\n",
       "     Model Year  Origin    Company  \n",
       "0            72       1   chrysler  \n",
       "1            73       1  chevrolet  \n",
       "2            77       1  chevrolet  \n",
       "3            75       1      buick  \n",
       "4            76       1      dodge  \n",
       "..          ...     ...        ...  \n",
       "295          82       1       ford  \n",
       "296          76       1       ford  \n",
       "297          78       1       ford  \n",
       "298          72       1   plymouth  \n",
       "299          80       2    renault  \n",
       "\n",
       "[300 rows x 9 columns]"
      ]
     },
     "execution_count": 17,
     "metadata": {},
     "output_type": "execute_result"
    }
   ],
   "source": [
    "import re #takes a particular part of a string from a column name\n",
    "\n",
    "#creating a Company column\n",
    "data['Company'] = df['Car Name'].apply(lambda x: re.search(r'^\\w+', x).group(0))\n",
    "#dropping the Car Name column\n",
    "data = data.drop('Car Name', axis = 1)\n",
    "\n",
    "data #modified dataset"
   ]
  },
  {
   "cell_type": "code",
   "execution_count": 18,
   "id": "8a64f830",
   "metadata": {
    "execution": {
     "iopub.execute_input": "2023-07-07T08:19:10.165465Z",
     "iopub.status.busy": "2023-07-07T08:19:10.164286Z",
     "iopub.status.idle": "2023-07-07T08:19:10.174623Z",
     "shell.execute_reply": "2023-07-07T08:19:10.173425Z"
    },
    "papermill": {
     "duration": 0.030948,
     "end_time": "2023-07-07T08:19:10.177274",
     "exception": false,
     "start_time": "2023-07-07T08:19:10.146326",
     "status": "completed"
    },
    "tags": []
   },
   "outputs": [
    {
     "data": {
      "text/plain": [
       "ford          36\n",
       "chevrolet     32\n",
       "plymouth      22\n",
       "amc           22\n",
       "toyota        21\n",
       "dodge         19\n",
       "datsun        16\n",
       "buick         14\n",
       "pontiac       13\n",
       "volkswagen    10\n",
       "mercury        9\n",
       "oldsmobile     8\n",
       "fiat           8\n",
       "honda          8\n",
       "chrysler       6\n",
       "peugeot        6\n",
       "mazda          5\n",
       "vw             5\n",
       "volvo          4\n",
       "saab           4\n",
       "subaru         4\n",
       "audi           4\n",
       "renault        4\n",
       "opel           3\n",
       "mercedes       3\n",
       "bmw            2\n",
       "chevy          2\n",
       "cadillac       2\n",
       "maxda          2\n",
       "chevroelt      1\n",
       "vokswagen      1\n",
       "capri          1\n",
       "hi             1\n",
       "toyouta        1\n",
       "triumph        1\n",
       "Name: Company, dtype: int64"
      ]
     },
     "execution_count": 18,
     "metadata": {},
     "output_type": "execute_result"
    }
   ],
   "source": [
    "data['Company'].value_counts()"
   ]
  },
  {
   "cell_type": "markdown",
   "id": "c6d268ba",
   "metadata": {
    "papermill": {
     "duration": 0.016551,
     "end_time": "2023-07-07T08:19:10.210601",
     "exception": false,
     "start_time": "2023-07-07T08:19:10.194050",
     "status": "completed"
    },
    "tags": []
   },
   "source": [
    "There are some typos in the Company column."
   ]
  },
  {
   "cell_type": "code",
   "execution_count": 19,
   "id": "50cd6a40",
   "metadata": {
    "execution": {
     "iopub.execute_input": "2023-07-07T08:19:10.245807Z",
     "iopub.status.busy": "2023-07-07T08:19:10.245282Z",
     "iopub.status.idle": "2023-07-07T08:19:10.255250Z",
     "shell.execute_reply": "2023-07-07T08:19:10.253705Z"
    },
    "papermill": {
     "duration": 0.030401,
     "end_time": "2023-07-07T08:19:10.257584",
     "exception": false,
     "start_time": "2023-07-07T08:19:10.227183",
     "status": "completed"
    },
    "tags": []
   },
   "outputs": [],
   "source": [
    "#a dictionary with the error-correction as key-value pair\n",
    "correction = {\n",
    "    'toyouta' : 'toyota',\n",
    "    'vokswagen' : 'volkswagen',\n",
    "    'chevroelt' : 'chevrolet',\n",
    "    'maxda' : 'mazda',\n",
    "    'vw' : 'volkswagen'\n",
    "}\n",
    "\n",
    "data['Company'] = data['Company'].replace(correction) #replacing typos with correct spellings"
   ]
  },
  {
   "cell_type": "code",
   "execution_count": 20,
   "id": "946fb5c9",
   "metadata": {
    "execution": {
     "iopub.execute_input": "2023-07-07T08:19:10.293828Z",
     "iopub.status.busy": "2023-07-07T08:19:10.292962Z",
     "iopub.status.idle": "2023-07-07T08:19:10.303331Z",
     "shell.execute_reply": "2023-07-07T08:19:10.302081Z"
    },
    "papermill": {
     "duration": 0.031409,
     "end_time": "2023-07-07T08:19:10.305609",
     "exception": false,
     "start_time": "2023-07-07T08:19:10.274200",
     "status": "completed"
    },
    "tags": []
   },
   "outputs": [
    {
     "data": {
      "text/plain": [
       "ford          36\n",
       "chevrolet     33\n",
       "toyota        22\n",
       "plymouth      22\n",
       "amc           22\n",
       "dodge         19\n",
       "volkswagen    16\n",
       "datsun        16\n",
       "buick         14\n",
       "pontiac       13\n",
       "mercury        9\n",
       "oldsmobile     8\n",
       "honda          8\n",
       "fiat           8\n",
       "mazda          7\n",
       "peugeot        6\n",
       "chrysler       6\n",
       "audi           4\n",
       "renault        4\n",
       "saab           4\n",
       "volvo          4\n",
       "subaru         4\n",
       "mercedes       3\n",
       "opel           3\n",
       "bmw            2\n",
       "chevy          2\n",
       "cadillac       2\n",
       "capri          1\n",
       "hi             1\n",
       "triumph        1\n",
       "Name: Company, dtype: int64"
      ]
     },
     "execution_count": 20,
     "metadata": {},
     "output_type": "execute_result"
    }
   ],
   "source": [
    "data['Company'].value_counts()"
   ]
  },
  {
   "cell_type": "code",
   "execution_count": 21,
   "id": "52905443",
   "metadata": {
    "execution": {
     "iopub.execute_input": "2023-07-07T08:19:10.341750Z",
     "iopub.status.busy": "2023-07-07T08:19:10.340962Z",
     "iopub.status.idle": "2023-07-07T08:19:10.349281Z",
     "shell.execute_reply": "2023-07-07T08:19:10.348279Z"
    },
    "papermill": {
     "duration": 0.029303,
     "end_time": "2023-07-07T08:19:10.351597",
     "exception": false,
     "start_time": "2023-07-07T08:19:10.322294",
     "status": "completed"
    },
    "tags": []
   },
   "outputs": [
    {
     "data": {
      "text/plain": [
       "True"
      ]
     },
     "execution_count": 21,
     "metadata": {},
     "output_type": "execute_result"
    }
   ],
   "source": [
    "len(data['Company'].value_counts()) == len(data['Company'].unique())"
   ]
  },
  {
   "cell_type": "markdown",
   "id": "9eaa0b0e",
   "metadata": {
    "papermill": {
     "duration": 0.016399,
     "end_time": "2023-07-07T08:19:10.384782",
     "exception": false,
     "start_time": "2023-07-07T08:19:10.368383",
     "status": "completed"
    },
    "tags": []
   },
   "source": [
    "##### As you can see, all the typos have been removed"
   ]
  },
  {
   "cell_type": "code",
   "execution_count": 22,
   "id": "210d473a",
   "metadata": {
    "execution": {
     "iopub.execute_input": "2023-07-07T08:19:10.420868Z",
     "iopub.status.busy": "2023-07-07T08:19:10.420086Z",
     "iopub.status.idle": "2023-07-07T08:19:10.427874Z",
     "shell.execute_reply": "2023-07-07T08:19:10.426600Z"
    },
    "papermill": {
     "duration": 0.028823,
     "end_time": "2023-07-07T08:19:10.430290",
     "exception": false,
     "start_time": "2023-07-07T08:19:10.401467",
     "status": "completed"
    },
    "tags": []
   },
   "outputs": [
    {
     "data": {
      "text/plain": [
       "array([8, 6, 4, 5, 3])"
      ]
     },
     "execution_count": 22,
     "metadata": {},
     "output_type": "execute_result"
    }
   ],
   "source": [
    "data['Cylinders'].unique()"
   ]
  },
  {
   "cell_type": "code",
   "execution_count": 23,
   "id": "fd806af2",
   "metadata": {
    "execution": {
     "iopub.execute_input": "2023-07-07T08:19:10.466385Z",
     "iopub.status.busy": "2023-07-07T08:19:10.465859Z",
     "iopub.status.idle": "2023-07-07T08:19:10.474088Z",
     "shell.execute_reply": "2023-07-07T08:19:10.472895Z"
    },
    "papermill": {
     "duration": 0.028994,
     "end_time": "2023-07-07T08:19:10.476262",
     "exception": false,
     "start_time": "2023-07-07T08:19:10.447268",
     "status": "completed"
    },
    "tags": []
   },
   "outputs": [
    {
     "data": {
      "text/plain": [
       "array([1, 2, 3])"
      ]
     },
     "execution_count": 23,
     "metadata": {},
     "output_type": "execute_result"
    }
   ],
   "source": [
    "data['Origin'].unique()"
   ]
  },
  {
   "cell_type": "code",
   "execution_count": 24,
   "id": "455bd644",
   "metadata": {
    "execution": {
     "iopub.execute_input": "2023-07-07T08:19:10.514142Z",
     "iopub.status.busy": "2023-07-07T08:19:10.513615Z",
     "iopub.status.idle": "2023-07-07T08:19:10.521540Z",
     "shell.execute_reply": "2023-07-07T08:19:10.519870Z"
    },
    "papermill": {
     "duration": 0.029952,
     "end_time": "2023-07-07T08:19:10.524309",
     "exception": false,
     "start_time": "2023-07-07T08:19:10.494357",
     "status": "completed"
    },
    "tags": []
   },
   "outputs": [
    {
     "name": "stdout",
     "output_type": "stream",
     "text": [
      "5 3 30\n"
     ]
    }
   ],
   "source": [
    "print(len(data['Cylinders'].unique()), len(data['Origin'].unique()), len(data['Company'].unique()))"
   ]
  },
  {
   "cell_type": "markdown",
   "id": "f6cf372a",
   "metadata": {
    "papermill": {
     "duration": 0.016867,
     "end_time": "2023-07-07T08:19:10.560655",
     "exception": false,
     "start_time": "2023-07-07T08:19:10.543788",
     "status": "completed"
    },
    "tags": []
   },
   "source": [
    "##### Hence, the cylinderr, origin, and company columns have nominal values, and can be onehot encoded"
   ]
  },
  {
   "cell_type": "code",
   "execution_count": 25,
   "id": "a5e3a8d0",
   "metadata": {
    "execution": {
     "iopub.execute_input": "2023-07-07T08:19:10.597229Z",
     "iopub.status.busy": "2023-07-07T08:19:10.596728Z",
     "iopub.status.idle": "2023-07-07T08:19:10.615565Z",
     "shell.execute_reply": "2023-07-07T08:19:10.614177Z"
    },
    "papermill": {
     "duration": 0.041037,
     "end_time": "2023-07-07T08:19:10.618758",
     "exception": false,
     "start_time": "2023-07-07T08:19:10.577721",
     "status": "completed"
    },
    "tags": []
   },
   "outputs": [],
   "source": [
    "nominal_dict = {\n",
    "    'Cylinders' : 'Cyl',\n",
    "    'Origin' : 'Orig',\n",
    "    'Company' : 'Comp'\n",
    "}\n",
    "\n",
    "for column, prefix in nominal_dict.items():     #onehot encoding the nominal columns\n",
    "    dummies = pd.get_dummies(data[column], prefix=prefix)\n",
    "    data = pd.concat([data, dummies], axis=1)\n",
    "    data = data.drop(column, axis=1)"
   ]
  },
  {
   "cell_type": "code",
   "execution_count": 26,
   "id": "4e916f1d",
   "metadata": {
    "execution": {
     "iopub.execute_input": "2023-07-07T08:19:10.655656Z",
     "iopub.status.busy": "2023-07-07T08:19:10.655135Z",
     "iopub.status.idle": "2023-07-07T08:19:10.689443Z",
     "shell.execute_reply": "2023-07-07T08:19:10.688185Z"
    },
    "papermill": {
     "duration": 0.056231,
     "end_time": "2023-07-07T08:19:10.692131",
     "exception": false,
     "start_time": "2023-07-07T08:19:10.635900",
     "status": "completed"
    },
    "tags": []
   },
   "outputs": [
    {
     "data": {
      "text/html": [
       "<div>\n",
       "<style scoped>\n",
       "    .dataframe tbody tr th:only-of-type {\n",
       "        vertical-align: middle;\n",
       "    }\n",
       "\n",
       "    .dataframe tbody tr th {\n",
       "        vertical-align: top;\n",
       "    }\n",
       "\n",
       "    .dataframe thead th {\n",
       "        text-align: right;\n",
       "    }\n",
       "</style>\n",
       "<table border=\"1\" class=\"dataframe\">\n",
       "  <thead>\n",
       "    <tr style=\"text-align: right;\">\n",
       "      <th></th>\n",
       "      <th>MPG</th>\n",
       "      <th>Displacement</th>\n",
       "      <th>Horsepower</th>\n",
       "      <th>Weight</th>\n",
       "      <th>Acceleration</th>\n",
       "      <th>Model Year</th>\n",
       "      <th>Cyl_3</th>\n",
       "      <th>Cyl_4</th>\n",
       "      <th>Cyl_5</th>\n",
       "      <th>Cyl_6</th>\n",
       "      <th>...</th>\n",
       "      <th>Comp_peugeot</th>\n",
       "      <th>Comp_plymouth</th>\n",
       "      <th>Comp_pontiac</th>\n",
       "      <th>Comp_renault</th>\n",
       "      <th>Comp_saab</th>\n",
       "      <th>Comp_subaru</th>\n",
       "      <th>Comp_toyota</th>\n",
       "      <th>Comp_triumph</th>\n",
       "      <th>Comp_volkswagen</th>\n",
       "      <th>Comp_volvo</th>\n",
       "    </tr>\n",
       "  </thead>\n",
       "  <tbody>\n",
       "    <tr>\n",
       "      <th>0</th>\n",
       "      <td>13.0</td>\n",
       "      <td>400.0</td>\n",
       "      <td>190.000000</td>\n",
       "      <td>4422</td>\n",
       "      <td>12.5</td>\n",
       "      <td>72</td>\n",
       "      <td>0</td>\n",
       "      <td>0</td>\n",
       "      <td>0</td>\n",
       "      <td>0</td>\n",
       "      <td>...</td>\n",
       "      <td>0</td>\n",
       "      <td>0</td>\n",
       "      <td>0</td>\n",
       "      <td>0</td>\n",
       "      <td>0</td>\n",
       "      <td>0</td>\n",
       "      <td>0</td>\n",
       "      <td>0</td>\n",
       "      <td>0</td>\n",
       "      <td>0</td>\n",
       "    </tr>\n",
       "    <tr>\n",
       "      <th>1</th>\n",
       "      <td>13.0</td>\n",
       "      <td>350.0</td>\n",
       "      <td>145.000000</td>\n",
       "      <td>3988</td>\n",
       "      <td>13.0</td>\n",
       "      <td>73</td>\n",
       "      <td>0</td>\n",
       "      <td>0</td>\n",
       "      <td>0</td>\n",
       "      <td>0</td>\n",
       "      <td>...</td>\n",
       "      <td>0</td>\n",
       "      <td>0</td>\n",
       "      <td>0</td>\n",
       "      <td>0</td>\n",
       "      <td>0</td>\n",
       "      <td>0</td>\n",
       "      <td>0</td>\n",
       "      <td>0</td>\n",
       "      <td>0</td>\n",
       "      <td>0</td>\n",
       "    </tr>\n",
       "    <tr>\n",
       "      <th>2</th>\n",
       "      <td>15.5</td>\n",
       "      <td>350.0</td>\n",
       "      <td>170.000000</td>\n",
       "      <td>4165</td>\n",
       "      <td>11.4</td>\n",
       "      <td>77</td>\n",
       "      <td>0</td>\n",
       "      <td>0</td>\n",
       "      <td>0</td>\n",
       "      <td>0</td>\n",
       "      <td>...</td>\n",
       "      <td>0</td>\n",
       "      <td>0</td>\n",
       "      <td>0</td>\n",
       "      <td>0</td>\n",
       "      <td>0</td>\n",
       "      <td>0</td>\n",
       "      <td>0</td>\n",
       "      <td>0</td>\n",
       "      <td>0</td>\n",
       "      <td>0</td>\n",
       "    </tr>\n",
       "    <tr>\n",
       "      <th>3</th>\n",
       "      <td>17.0</td>\n",
       "      <td>231.0</td>\n",
       "      <td>110.000000</td>\n",
       "      <td>3907</td>\n",
       "      <td>21.0</td>\n",
       "      <td>75</td>\n",
       "      <td>0</td>\n",
       "      <td>0</td>\n",
       "      <td>0</td>\n",
       "      <td>1</td>\n",
       "      <td>...</td>\n",
       "      <td>0</td>\n",
       "      <td>0</td>\n",
       "      <td>0</td>\n",
       "      <td>0</td>\n",
       "      <td>0</td>\n",
       "      <td>0</td>\n",
       "      <td>0</td>\n",
       "      <td>0</td>\n",
       "      <td>0</td>\n",
       "      <td>0</td>\n",
       "    </tr>\n",
       "    <tr>\n",
       "      <th>4</th>\n",
       "      <td>13.0</td>\n",
       "      <td>318.0</td>\n",
       "      <td>150.000000</td>\n",
       "      <td>3755</td>\n",
       "      <td>14.0</td>\n",
       "      <td>76</td>\n",
       "      <td>0</td>\n",
       "      <td>0</td>\n",
       "      <td>0</td>\n",
       "      <td>0</td>\n",
       "      <td>...</td>\n",
       "      <td>0</td>\n",
       "      <td>0</td>\n",
       "      <td>0</td>\n",
       "      <td>0</td>\n",
       "      <td>0</td>\n",
       "      <td>0</td>\n",
       "      <td>0</td>\n",
       "      <td>0</td>\n",
       "      <td>0</td>\n",
       "      <td>0</td>\n",
       "    </tr>\n",
       "    <tr>\n",
       "      <th>...</th>\n",
       "      <td>...</td>\n",
       "      <td>...</td>\n",
       "      <td>...</td>\n",
       "      <td>...</td>\n",
       "      <td>...</td>\n",
       "      <td>...</td>\n",
       "      <td>...</td>\n",
       "      <td>...</td>\n",
       "      <td>...</td>\n",
       "      <td>...</td>\n",
       "      <td>...</td>\n",
       "      <td>...</td>\n",
       "      <td>...</td>\n",
       "      <td>...</td>\n",
       "      <td>...</td>\n",
       "      <td>...</td>\n",
       "      <td>...</td>\n",
       "      <td>...</td>\n",
       "      <td>...</td>\n",
       "      <td>...</td>\n",
       "      <td>...</td>\n",
       "    </tr>\n",
       "    <tr>\n",
       "      <th>295</th>\n",
       "      <td>22.0</td>\n",
       "      <td>232.0</td>\n",
       "      <td>112.000000</td>\n",
       "      <td>2835</td>\n",
       "      <td>14.7</td>\n",
       "      <td>82</td>\n",
       "      <td>0</td>\n",
       "      <td>0</td>\n",
       "      <td>0</td>\n",
       "      <td>1</td>\n",
       "      <td>...</td>\n",
       "      <td>0</td>\n",
       "      <td>0</td>\n",
       "      <td>0</td>\n",
       "      <td>0</td>\n",
       "      <td>0</td>\n",
       "      <td>0</td>\n",
       "      <td>0</td>\n",
       "      <td>0</td>\n",
       "      <td>0</td>\n",
       "      <td>0</td>\n",
       "    </tr>\n",
       "    <tr>\n",
       "      <th>296</th>\n",
       "      <td>18.0</td>\n",
       "      <td>250.0</td>\n",
       "      <td>78.000000</td>\n",
       "      <td>3574</td>\n",
       "      <td>21.0</td>\n",
       "      <td>76</td>\n",
       "      <td>0</td>\n",
       "      <td>0</td>\n",
       "      <td>0</td>\n",
       "      <td>1</td>\n",
       "      <td>...</td>\n",
       "      <td>0</td>\n",
       "      <td>0</td>\n",
       "      <td>0</td>\n",
       "      <td>0</td>\n",
       "      <td>0</td>\n",
       "      <td>0</td>\n",
       "      <td>0</td>\n",
       "      <td>0</td>\n",
       "      <td>0</td>\n",
       "      <td>0</td>\n",
       "    </tr>\n",
       "    <tr>\n",
       "      <th>297</th>\n",
       "      <td>18.1</td>\n",
       "      <td>302.0</td>\n",
       "      <td>139.000000</td>\n",
       "      <td>3205</td>\n",
       "      <td>11.2</td>\n",
       "      <td>78</td>\n",
       "      <td>0</td>\n",
       "      <td>0</td>\n",
       "      <td>0</td>\n",
       "      <td>0</td>\n",
       "      <td>...</td>\n",
       "      <td>0</td>\n",
       "      <td>0</td>\n",
       "      <td>0</td>\n",
       "      <td>0</td>\n",
       "      <td>0</td>\n",
       "      <td>0</td>\n",
       "      <td>0</td>\n",
       "      <td>0</td>\n",
       "      <td>0</td>\n",
       "      <td>0</td>\n",
       "    </tr>\n",
       "    <tr>\n",
       "      <th>298</th>\n",
       "      <td>15.0</td>\n",
       "      <td>318.0</td>\n",
       "      <td>150.000000</td>\n",
       "      <td>4135</td>\n",
       "      <td>13.5</td>\n",
       "      <td>72</td>\n",
       "      <td>0</td>\n",
       "      <td>0</td>\n",
       "      <td>0</td>\n",
       "      <td>0</td>\n",
       "      <td>...</td>\n",
       "      <td>0</td>\n",
       "      <td>1</td>\n",
       "      <td>0</td>\n",
       "      <td>0</td>\n",
       "      <td>0</td>\n",
       "      <td>0</td>\n",
       "      <td>0</td>\n",
       "      <td>0</td>\n",
       "      <td>0</td>\n",
       "      <td>0</td>\n",
       "    </tr>\n",
       "    <tr>\n",
       "      <th>299</th>\n",
       "      <td>40.9</td>\n",
       "      <td>85.0</td>\n",
       "      <td>104.357143</td>\n",
       "      <td>1835</td>\n",
       "      <td>17.3</td>\n",
       "      <td>80</td>\n",
       "      <td>0</td>\n",
       "      <td>1</td>\n",
       "      <td>0</td>\n",
       "      <td>0</td>\n",
       "      <td>...</td>\n",
       "      <td>0</td>\n",
       "      <td>0</td>\n",
       "      <td>0</td>\n",
       "      <td>1</td>\n",
       "      <td>0</td>\n",
       "      <td>0</td>\n",
       "      <td>0</td>\n",
       "      <td>0</td>\n",
       "      <td>0</td>\n",
       "      <td>0</td>\n",
       "    </tr>\n",
       "  </tbody>\n",
       "</table>\n",
       "<p>300 rows × 44 columns</p>\n",
       "</div>"
      ],
      "text/plain": [
       "      MPG  Displacement  Horsepower  Weight  Acceleration  Model Year  Cyl_3  \\\n",
       "0    13.0         400.0  190.000000    4422          12.5          72      0   \n",
       "1    13.0         350.0  145.000000    3988          13.0          73      0   \n",
       "2    15.5         350.0  170.000000    4165          11.4          77      0   \n",
       "3    17.0         231.0  110.000000    3907          21.0          75      0   \n",
       "4    13.0         318.0  150.000000    3755          14.0          76      0   \n",
       "..    ...           ...         ...     ...           ...         ...    ...   \n",
       "295  22.0         232.0  112.000000    2835          14.7          82      0   \n",
       "296  18.0         250.0   78.000000    3574          21.0          76      0   \n",
       "297  18.1         302.0  139.000000    3205          11.2          78      0   \n",
       "298  15.0         318.0  150.000000    4135          13.5          72      0   \n",
       "299  40.9          85.0  104.357143    1835          17.3          80      0   \n",
       "\n",
       "     Cyl_4  Cyl_5  Cyl_6  ...  Comp_peugeot  Comp_plymouth  Comp_pontiac  \\\n",
       "0        0      0      0  ...             0              0             0   \n",
       "1        0      0      0  ...             0              0             0   \n",
       "2        0      0      0  ...             0              0             0   \n",
       "3        0      0      1  ...             0              0             0   \n",
       "4        0      0      0  ...             0              0             0   \n",
       "..     ...    ...    ...  ...           ...            ...           ...   \n",
       "295      0      0      1  ...             0              0             0   \n",
       "296      0      0      1  ...             0              0             0   \n",
       "297      0      0      0  ...             0              0             0   \n",
       "298      0      0      0  ...             0              1             0   \n",
       "299      1      0      0  ...             0              0             0   \n",
       "\n",
       "     Comp_renault  Comp_saab  Comp_subaru  Comp_toyota  Comp_triumph  \\\n",
       "0               0          0            0            0             0   \n",
       "1               0          0            0            0             0   \n",
       "2               0          0            0            0             0   \n",
       "3               0          0            0            0             0   \n",
       "4               0          0            0            0             0   \n",
       "..            ...        ...          ...          ...           ...   \n",
       "295             0          0            0            0             0   \n",
       "296             0          0            0            0             0   \n",
       "297             0          0            0            0             0   \n",
       "298             0          0            0            0             0   \n",
       "299             1          0            0            0             0   \n",
       "\n",
       "     Comp_volkswagen  Comp_volvo  \n",
       "0                  0           0  \n",
       "1                  0           0  \n",
       "2                  0           0  \n",
       "3                  0           0  \n",
       "4                  0           0  \n",
       "..               ...         ...  \n",
       "295                0           0  \n",
       "296                0           0  \n",
       "297                0           0  \n",
       "298                0           0  \n",
       "299                0           0  \n",
       "\n",
       "[300 rows x 44 columns]"
      ]
     },
     "execution_count": 26,
     "metadata": {},
     "output_type": "execute_result"
    }
   ],
   "source": [
    "data #the new dataframe with onehot encoded columns"
   ]
  },
  {
   "cell_type": "markdown",
   "id": "5bd0ccc1",
   "metadata": {
    "papermill": {
     "duration": 0.017257,
     "end_time": "2023-07-07T08:19:10.728753",
     "exception": false,
     "start_time": "2023-07-07T08:19:10.711496",
     "status": "completed"
    },
    "tags": []
   },
   "source": [
    "##### Now, we will seperate the column of the value to be predicted from the main dataframe"
   ]
  },
  {
   "cell_type": "code",
   "execution_count": 27,
   "id": "58700604",
   "metadata": {
    "execution": {
     "iopub.execute_input": "2023-07-07T08:19:10.765978Z",
     "iopub.status.busy": "2023-07-07T08:19:10.765394Z",
     "iopub.status.idle": "2023-07-07T08:19:10.773220Z",
     "shell.execute_reply": "2023-07-07T08:19:10.771836Z"
    },
    "papermill": {
     "duration": 0.029709,
     "end_time": "2023-07-07T08:19:10.776125",
     "exception": false,
     "start_time": "2023-07-07T08:19:10.746416",
     "status": "completed"
    },
    "tags": []
   },
   "outputs": [],
   "source": [
    "mpg = data['MPG'].copy()\n",
    "data = data.drop('MPG', axis=1)"
   ]
  },
  {
   "cell_type": "markdown",
   "id": "53d3a6d8",
   "metadata": {
    "papermill": {
     "duration": 0.017229,
     "end_time": "2023-07-07T08:19:10.811336",
     "exception": false,
     "start_time": "2023-07-07T08:19:10.794107",
     "status": "completed"
    },
    "tags": []
   },
   "source": [
    "## Model Creation"
   ]
  },
  {
   "cell_type": "markdown",
   "id": "cd33ce6f",
   "metadata": {
    "papermill": {
     "duration": 0.017957,
     "end_time": "2023-07-07T08:19:10.847658",
     "exception": false,
     "start_time": "2023-07-07T08:19:10.829701",
     "status": "completed"
    },
    "tags": []
   },
   "source": [
    "### Splitting the data"
   ]
  },
  {
   "cell_type": "code",
   "execution_count": 28,
   "id": "9fc87bc5",
   "metadata": {
    "execution": {
     "iopub.execute_input": "2023-07-07T08:19:10.885122Z",
     "iopub.status.busy": "2023-07-07T08:19:10.884725Z",
     "iopub.status.idle": "2023-07-07T08:19:10.894435Z",
     "shell.execute_reply": "2023-07-07T08:19:10.892721Z"
    },
    "papermill": {
     "duration": 0.031791,
     "end_time": "2023-07-07T08:19:10.897143",
     "exception": false,
     "start_time": "2023-07-07T08:19:10.865352",
     "status": "completed"
    },
    "tags": []
   },
   "outputs": [],
   "source": [
    "X = data\n",
    "Y = mpg\n",
    "X_train, X_test, Y_train, Y_test = train_test_split(X, Y, train_size=0.7, random_state=70)"
   ]
  },
  {
   "cell_type": "code",
   "execution_count": 29,
   "id": "d485c891",
   "metadata": {
    "execution": {
     "iopub.execute_input": "2023-07-07T08:19:10.934379Z",
     "iopub.status.busy": "2023-07-07T08:19:10.933997Z",
     "iopub.status.idle": "2023-07-07T08:19:10.965132Z",
     "shell.execute_reply": "2023-07-07T08:19:10.963282Z"
    },
    "papermill": {
     "duration": 0.05319,
     "end_time": "2023-07-07T08:19:10.968101",
     "exception": false,
     "start_time": "2023-07-07T08:19:10.914911",
     "status": "completed"
    },
    "tags": []
   },
   "outputs": [
    {
     "data": {
      "text/html": [
       "<div>\n",
       "<style scoped>\n",
       "    .dataframe tbody tr th:only-of-type {\n",
       "        vertical-align: middle;\n",
       "    }\n",
       "\n",
       "    .dataframe tbody tr th {\n",
       "        vertical-align: top;\n",
       "    }\n",
       "\n",
       "    .dataframe thead th {\n",
       "        text-align: right;\n",
       "    }\n",
       "</style>\n",
       "<table border=\"1\" class=\"dataframe\">\n",
       "  <thead>\n",
       "    <tr style=\"text-align: right;\">\n",
       "      <th></th>\n",
       "      <th>Displacement</th>\n",
       "      <th>Horsepower</th>\n",
       "      <th>Weight</th>\n",
       "      <th>Acceleration</th>\n",
       "      <th>Model Year</th>\n",
       "      <th>Cyl_3</th>\n",
       "      <th>Cyl_4</th>\n",
       "      <th>Cyl_5</th>\n",
       "      <th>Cyl_6</th>\n",
       "      <th>Cyl_8</th>\n",
       "      <th>...</th>\n",
       "      <th>Comp_peugeot</th>\n",
       "      <th>Comp_plymouth</th>\n",
       "      <th>Comp_pontiac</th>\n",
       "      <th>Comp_renault</th>\n",
       "      <th>Comp_saab</th>\n",
       "      <th>Comp_subaru</th>\n",
       "      <th>Comp_toyota</th>\n",
       "      <th>Comp_triumph</th>\n",
       "      <th>Comp_volkswagen</th>\n",
       "      <th>Comp_volvo</th>\n",
       "    </tr>\n",
       "  </thead>\n",
       "  <tbody>\n",
       "    <tr>\n",
       "      <th>156</th>\n",
       "      <td>304.0</td>\n",
       "      <td>150.0</td>\n",
       "      <td>3433</td>\n",
       "      <td>12.0</td>\n",
       "      <td>70</td>\n",
       "      <td>0</td>\n",
       "      <td>0</td>\n",
       "      <td>0</td>\n",
       "      <td>0</td>\n",
       "      <td>1</td>\n",
       "      <td>...</td>\n",
       "      <td>0</td>\n",
       "      <td>0</td>\n",
       "      <td>0</td>\n",
       "      <td>0</td>\n",
       "      <td>0</td>\n",
       "      <td>0</td>\n",
       "      <td>0</td>\n",
       "      <td>0</td>\n",
       "      <td>0</td>\n",
       "      <td>0</td>\n",
       "    </tr>\n",
       "    <tr>\n",
       "      <th>112</th>\n",
       "      <td>305.0</td>\n",
       "      <td>130.0</td>\n",
       "      <td>3840</td>\n",
       "      <td>15.4</td>\n",
       "      <td>79</td>\n",
       "      <td>0</td>\n",
       "      <td>0</td>\n",
       "      <td>0</td>\n",
       "      <td>0</td>\n",
       "      <td>1</td>\n",
       "      <td>...</td>\n",
       "      <td>0</td>\n",
       "      <td>0</td>\n",
       "      <td>0</td>\n",
       "      <td>0</td>\n",
       "      <td>0</td>\n",
       "      <td>0</td>\n",
       "      <td>0</td>\n",
       "      <td>0</td>\n",
       "      <td>0</td>\n",
       "      <td>0</td>\n",
       "    </tr>\n",
       "    <tr>\n",
       "      <th>136</th>\n",
       "      <td>91.0</td>\n",
       "      <td>67.0</td>\n",
       "      <td>1850</td>\n",
       "      <td>13.8</td>\n",
       "      <td>80</td>\n",
       "      <td>0</td>\n",
       "      <td>1</td>\n",
       "      <td>0</td>\n",
       "      <td>0</td>\n",
       "      <td>0</td>\n",
       "      <td>...</td>\n",
       "      <td>0</td>\n",
       "      <td>0</td>\n",
       "      <td>0</td>\n",
       "      <td>0</td>\n",
       "      <td>0</td>\n",
       "      <td>0</td>\n",
       "      <td>0</td>\n",
       "      <td>0</td>\n",
       "      <td>0</td>\n",
       "      <td>0</td>\n",
       "    </tr>\n",
       "    <tr>\n",
       "      <th>161</th>\n",
       "      <td>121.0</td>\n",
       "      <td>112.0</td>\n",
       "      <td>2868</td>\n",
       "      <td>15.5</td>\n",
       "      <td>73</td>\n",
       "      <td>0</td>\n",
       "      <td>1</td>\n",
       "      <td>0</td>\n",
       "      <td>0</td>\n",
       "      <td>0</td>\n",
       "      <td>...</td>\n",
       "      <td>0</td>\n",
       "      <td>0</td>\n",
       "      <td>0</td>\n",
       "      <td>0</td>\n",
       "      <td>0</td>\n",
       "      <td>0</td>\n",
       "      <td>0</td>\n",
       "      <td>0</td>\n",
       "      <td>0</td>\n",
       "      <td>1</td>\n",
       "    </tr>\n",
       "    <tr>\n",
       "      <th>263</th>\n",
       "      <td>390.0</td>\n",
       "      <td>190.0</td>\n",
       "      <td>3850</td>\n",
       "      <td>8.5</td>\n",
       "      <td>70</td>\n",
       "      <td>0</td>\n",
       "      <td>0</td>\n",
       "      <td>0</td>\n",
       "      <td>0</td>\n",
       "      <td>1</td>\n",
       "      <td>...</td>\n",
       "      <td>0</td>\n",
       "      <td>0</td>\n",
       "      <td>0</td>\n",
       "      <td>0</td>\n",
       "      <td>0</td>\n",
       "      <td>0</td>\n",
       "      <td>0</td>\n",
       "      <td>0</td>\n",
       "      <td>0</td>\n",
       "      <td>0</td>\n",
       "    </tr>\n",
       "    <tr>\n",
       "      <th>...</th>\n",
       "      <td>...</td>\n",
       "      <td>...</td>\n",
       "      <td>...</td>\n",
       "      <td>...</td>\n",
       "      <td>...</td>\n",
       "      <td>...</td>\n",
       "      <td>...</td>\n",
       "      <td>...</td>\n",
       "      <td>...</td>\n",
       "      <td>...</td>\n",
       "      <td>...</td>\n",
       "      <td>...</td>\n",
       "      <td>...</td>\n",
       "      <td>...</td>\n",
       "      <td>...</td>\n",
       "      <td>...</td>\n",
       "      <td>...</td>\n",
       "      <td>...</td>\n",
       "      <td>...</td>\n",
       "      <td>...</td>\n",
       "      <td>...</td>\n",
       "    </tr>\n",
       "    <tr>\n",
       "      <th>117</th>\n",
       "      <td>83.0</td>\n",
       "      <td>61.0</td>\n",
       "      <td>2003</td>\n",
       "      <td>19.0</td>\n",
       "      <td>74</td>\n",
       "      <td>0</td>\n",
       "      <td>1</td>\n",
       "      <td>0</td>\n",
       "      <td>0</td>\n",
       "      <td>0</td>\n",
       "      <td>...</td>\n",
       "      <td>0</td>\n",
       "      <td>0</td>\n",
       "      <td>0</td>\n",
       "      <td>0</td>\n",
       "      <td>0</td>\n",
       "      <td>0</td>\n",
       "      <td>0</td>\n",
       "      <td>0</td>\n",
       "      <td>0</td>\n",
       "      <td>0</td>\n",
       "    </tr>\n",
       "    <tr>\n",
       "      <th>59</th>\n",
       "      <td>360.0</td>\n",
       "      <td>150.0</td>\n",
       "      <td>3940</td>\n",
       "      <td>13.0</td>\n",
       "      <td>79</td>\n",
       "      <td>0</td>\n",
       "      <td>0</td>\n",
       "      <td>0</td>\n",
       "      <td>0</td>\n",
       "      <td>1</td>\n",
       "      <td>...</td>\n",
       "      <td>0</td>\n",
       "      <td>0</td>\n",
       "      <td>0</td>\n",
       "      <td>0</td>\n",
       "      <td>0</td>\n",
       "      <td>0</td>\n",
       "      <td>0</td>\n",
       "      <td>0</td>\n",
       "      <td>0</td>\n",
       "      <td>0</td>\n",
       "    </tr>\n",
       "    <tr>\n",
       "      <th>280</th>\n",
       "      <td>91.0</td>\n",
       "      <td>68.0</td>\n",
       "      <td>1970</td>\n",
       "      <td>17.6</td>\n",
       "      <td>82</td>\n",
       "      <td>0</td>\n",
       "      <td>1</td>\n",
       "      <td>0</td>\n",
       "      <td>0</td>\n",
       "      <td>0</td>\n",
       "      <td>...</td>\n",
       "      <td>0</td>\n",
       "      <td>0</td>\n",
       "      <td>0</td>\n",
       "      <td>0</td>\n",
       "      <td>0</td>\n",
       "      <td>0</td>\n",
       "      <td>0</td>\n",
       "      <td>0</td>\n",
       "      <td>0</td>\n",
       "      <td>0</td>\n",
       "    </tr>\n",
       "    <tr>\n",
       "      <th>114</th>\n",
       "      <td>90.0</td>\n",
       "      <td>48.0</td>\n",
       "      <td>2085</td>\n",
       "      <td>21.7</td>\n",
       "      <td>80</td>\n",
       "      <td>0</td>\n",
       "      <td>1</td>\n",
       "      <td>0</td>\n",
       "      <td>0</td>\n",
       "      <td>0</td>\n",
       "      <td>...</td>\n",
       "      <td>0</td>\n",
       "      <td>0</td>\n",
       "      <td>0</td>\n",
       "      <td>0</td>\n",
       "      <td>0</td>\n",
       "      <td>0</td>\n",
       "      <td>0</td>\n",
       "      <td>0</td>\n",
       "      <td>1</td>\n",
       "      <td>0</td>\n",
       "    </tr>\n",
       "    <tr>\n",
       "      <th>214</th>\n",
       "      <td>121.0</td>\n",
       "      <td>115.0</td>\n",
       "      <td>2795</td>\n",
       "      <td>15.7</td>\n",
       "      <td>78</td>\n",
       "      <td>0</td>\n",
       "      <td>1</td>\n",
       "      <td>0</td>\n",
       "      <td>0</td>\n",
       "      <td>0</td>\n",
       "      <td>...</td>\n",
       "      <td>0</td>\n",
       "      <td>0</td>\n",
       "      <td>0</td>\n",
       "      <td>0</td>\n",
       "      <td>1</td>\n",
       "      <td>0</td>\n",
       "      <td>0</td>\n",
       "      <td>0</td>\n",
       "      <td>0</td>\n",
       "      <td>0</td>\n",
       "    </tr>\n",
       "  </tbody>\n",
       "</table>\n",
       "<p>210 rows × 43 columns</p>\n",
       "</div>"
      ],
      "text/plain": [
       "     Displacement  Horsepower  Weight  Acceleration  Model Year  Cyl_3  Cyl_4  \\\n",
       "156         304.0       150.0    3433          12.0          70      0      0   \n",
       "112         305.0       130.0    3840          15.4          79      0      0   \n",
       "136          91.0        67.0    1850          13.8          80      0      1   \n",
       "161         121.0       112.0    2868          15.5          73      0      1   \n",
       "263         390.0       190.0    3850           8.5          70      0      0   \n",
       "..            ...         ...     ...           ...         ...    ...    ...   \n",
       "117          83.0        61.0    2003          19.0          74      0      1   \n",
       "59          360.0       150.0    3940          13.0          79      0      0   \n",
       "280          91.0        68.0    1970          17.6          82      0      1   \n",
       "114          90.0        48.0    2085          21.7          80      0      1   \n",
       "214         121.0       115.0    2795          15.7          78      0      1   \n",
       "\n",
       "     Cyl_5  Cyl_6  Cyl_8  ...  Comp_peugeot  Comp_plymouth  Comp_pontiac  \\\n",
       "156      0      0      1  ...             0              0             0   \n",
       "112      0      0      1  ...             0              0             0   \n",
       "136      0      0      0  ...             0              0             0   \n",
       "161      0      0      0  ...             0              0             0   \n",
       "263      0      0      1  ...             0              0             0   \n",
       "..     ...    ...    ...  ...           ...            ...           ...   \n",
       "117      0      0      0  ...             0              0             0   \n",
       "59       0      0      1  ...             0              0             0   \n",
       "280      0      0      0  ...             0              0             0   \n",
       "114      0      0      0  ...             0              0             0   \n",
       "214      0      0      0  ...             0              0             0   \n",
       "\n",
       "     Comp_renault  Comp_saab  Comp_subaru  Comp_toyota  Comp_triumph  \\\n",
       "156             0          0            0            0             0   \n",
       "112             0          0            0            0             0   \n",
       "136             0          0            0            0             0   \n",
       "161             0          0            0            0             0   \n",
       "263             0          0            0            0             0   \n",
       "..            ...        ...          ...          ...           ...   \n",
       "117             0          0            0            0             0   \n",
       "59              0          0            0            0             0   \n",
       "280             0          0            0            0             0   \n",
       "114             0          0            0            0             0   \n",
       "214             0          1            0            0             0   \n",
       "\n",
       "     Comp_volkswagen  Comp_volvo  \n",
       "156                0           0  \n",
       "112                0           0  \n",
       "136                0           0  \n",
       "161                0           1  \n",
       "263                0           0  \n",
       "..               ...         ...  \n",
       "117                0           0  \n",
       "59                 0           0  \n",
       "280                0           0  \n",
       "114                1           0  \n",
       "214                0           0  \n",
       "\n",
       "[210 rows x 43 columns]"
      ]
     },
     "execution_count": 29,
     "metadata": {},
     "output_type": "execute_result"
    }
   ],
   "source": [
    "X_train"
   ]
  },
  {
   "cell_type": "markdown",
   "id": "2036ccab",
   "metadata": {
    "papermill": {
     "duration": 0.018979,
     "end_time": "2023-07-07T08:19:11.007759",
     "exception": false,
     "start_time": "2023-07-07T08:19:10.988780",
     "status": "completed"
    },
    "tags": []
   },
   "source": [
    "### Scaling the data"
   ]
  },
  {
   "cell_type": "code",
   "execution_count": 30,
   "id": "d36e3883",
   "metadata": {
    "execution": {
     "iopub.execute_input": "2023-07-07T08:19:11.046027Z",
     "iopub.status.busy": "2023-07-07T08:19:11.045516Z",
     "iopub.status.idle": "2023-07-07T08:19:11.061758Z",
     "shell.execute_reply": "2023-07-07T08:19:11.060419Z"
    },
    "papermill": {
     "duration": 0.038698,
     "end_time": "2023-07-07T08:19:11.064592",
     "exception": false,
     "start_time": "2023-07-07T08:19:11.025894",
     "status": "completed"
    },
    "tags": []
   },
   "outputs": [],
   "source": [
    "scaler = StandardScaler() #used the sklearn.preprocessing.StandardScaler to scale the train dataset\n",
    "scaler.fit(X_train)\n",
    "\n",
    "X_train = pd.DataFrame(scaler.transform(X_train), columns=X_train.columns) #scaling the train dataset\n",
    "X_test = pd.DataFrame(scaler.transform(X_test), columns=X_test.columns) #scaling the test dataset"
   ]
  },
  {
   "cell_type": "code",
   "execution_count": 31,
   "id": "199783f2",
   "metadata": {
    "execution": {
     "iopub.execute_input": "2023-07-07T08:19:11.104223Z",
     "iopub.status.busy": "2023-07-07T08:19:11.103828Z",
     "iopub.status.idle": "2023-07-07T08:19:11.138388Z",
     "shell.execute_reply": "2023-07-07T08:19:11.137023Z"
    },
    "papermill": {
     "duration": 0.057654,
     "end_time": "2023-07-07T08:19:11.141053",
     "exception": false,
     "start_time": "2023-07-07T08:19:11.083399",
     "status": "completed"
    },
    "tags": []
   },
   "outputs": [
    {
     "data": {
      "text/html": [
       "<div>\n",
       "<style scoped>\n",
       "    .dataframe tbody tr th:only-of-type {\n",
       "        vertical-align: middle;\n",
       "    }\n",
       "\n",
       "    .dataframe tbody tr th {\n",
       "        vertical-align: top;\n",
       "    }\n",
       "\n",
       "    .dataframe thead th {\n",
       "        text-align: right;\n",
       "    }\n",
       "</style>\n",
       "<table border=\"1\" class=\"dataframe\">\n",
       "  <thead>\n",
       "    <tr style=\"text-align: right;\">\n",
       "      <th></th>\n",
       "      <th>Displacement</th>\n",
       "      <th>Horsepower</th>\n",
       "      <th>Weight</th>\n",
       "      <th>Acceleration</th>\n",
       "      <th>Model Year</th>\n",
       "      <th>Cyl_3</th>\n",
       "      <th>Cyl_4</th>\n",
       "      <th>Cyl_5</th>\n",
       "      <th>Cyl_6</th>\n",
       "      <th>Cyl_8</th>\n",
       "      <th>...</th>\n",
       "      <th>Comp_peugeot</th>\n",
       "      <th>Comp_plymouth</th>\n",
       "      <th>Comp_pontiac</th>\n",
       "      <th>Comp_renault</th>\n",
       "      <th>Comp_saab</th>\n",
       "      <th>Comp_subaru</th>\n",
       "      <th>Comp_toyota</th>\n",
       "      <th>Comp_triumph</th>\n",
       "      <th>Comp_volkswagen</th>\n",
       "      <th>Comp_volvo</th>\n",
       "    </tr>\n",
       "  </thead>\n",
       "  <tbody>\n",
       "    <tr>\n",
       "      <th>0</th>\n",
       "      <td>1.055309</td>\n",
       "      <td>1.198947</td>\n",
       "      <td>0.589879</td>\n",
       "      <td>-1.254086</td>\n",
       "      <td>-1.558652</td>\n",
       "      <td>-0.120386</td>\n",
       "      <td>-1.079328</td>\n",
       "      <td>-0.069171</td>\n",
       "      <td>-0.462464</td>\n",
       "      <td>1.658312</td>\n",
       "      <td>...</td>\n",
       "      <td>-0.139347</td>\n",
       "      <td>-0.267261</td>\n",
       "      <td>-0.211604</td>\n",
       "      <td>-0.120386</td>\n",
       "      <td>-0.120386</td>\n",
       "      <td>-0.098058</td>\n",
       "      <td>-0.256885</td>\n",
       "      <td>-0.069171</td>\n",
       "      <td>-0.246183</td>\n",
       "      <td>-0.069171</td>\n",
       "    </tr>\n",
       "    <tr>\n",
       "      <th>1</th>\n",
       "      <td>1.064711</td>\n",
       "      <td>0.666376</td>\n",
       "      <td>1.080565</td>\n",
       "      <td>-0.046510</td>\n",
       "      <td>0.828587</td>\n",
       "      <td>-0.120386</td>\n",
       "      <td>-1.079328</td>\n",
       "      <td>-0.069171</td>\n",
       "      <td>-0.462464</td>\n",
       "      <td>1.658312</td>\n",
       "      <td>...</td>\n",
       "      <td>-0.139347</td>\n",
       "      <td>-0.267261</td>\n",
       "      <td>-0.211604</td>\n",
       "      <td>-0.120386</td>\n",
       "      <td>-0.120386</td>\n",
       "      <td>-0.098058</td>\n",
       "      <td>-0.256885</td>\n",
       "      <td>-0.069171</td>\n",
       "      <td>-0.246183</td>\n",
       "      <td>-0.069171</td>\n",
       "    </tr>\n",
       "    <tr>\n",
       "      <th>2</th>\n",
       "      <td>-0.947151</td>\n",
       "      <td>-1.011225</td>\n",
       "      <td>-1.318611</td>\n",
       "      <td>-0.614781</td>\n",
       "      <td>1.093835</td>\n",
       "      <td>-0.120386</td>\n",
       "      <td>0.926503</td>\n",
       "      <td>-0.069171</td>\n",
       "      <td>-0.462464</td>\n",
       "      <td>-0.603023</td>\n",
       "      <td>...</td>\n",
       "      <td>-0.139347</td>\n",
       "      <td>-0.267261</td>\n",
       "      <td>-0.211604</td>\n",
       "      <td>-0.120386</td>\n",
       "      <td>-0.120386</td>\n",
       "      <td>-0.098058</td>\n",
       "      <td>-0.256885</td>\n",
       "      <td>-0.069171</td>\n",
       "      <td>-0.246183</td>\n",
       "      <td>-0.069171</td>\n",
       "    </tr>\n",
       "    <tr>\n",
       "      <th>3</th>\n",
       "      <td>-0.665114</td>\n",
       "      <td>0.187061</td>\n",
       "      <td>-0.091294</td>\n",
       "      <td>-0.010993</td>\n",
       "      <td>-0.762906</td>\n",
       "      <td>-0.120386</td>\n",
       "      <td>0.926503</td>\n",
       "      <td>-0.069171</td>\n",
       "      <td>-0.462464</td>\n",
       "      <td>-0.603023</td>\n",
       "      <td>...</td>\n",
       "      <td>-0.139347</td>\n",
       "      <td>-0.267261</td>\n",
       "      <td>-0.211604</td>\n",
       "      <td>-0.120386</td>\n",
       "      <td>-0.120386</td>\n",
       "      <td>-0.098058</td>\n",
       "      <td>-0.256885</td>\n",
       "      <td>-0.069171</td>\n",
       "      <td>-0.246183</td>\n",
       "      <td>14.456832</td>\n",
       "    </tr>\n",
       "    <tr>\n",
       "      <th>4</th>\n",
       "      <td>1.863814</td>\n",
       "      <td>2.264090</td>\n",
       "      <td>1.092621</td>\n",
       "      <td>-2.497178</td>\n",
       "      <td>-1.558652</td>\n",
       "      <td>-0.120386</td>\n",
       "      <td>-1.079328</td>\n",
       "      <td>-0.069171</td>\n",
       "      <td>-0.462464</td>\n",
       "      <td>1.658312</td>\n",
       "      <td>...</td>\n",
       "      <td>-0.139347</td>\n",
       "      <td>-0.267261</td>\n",
       "      <td>-0.211604</td>\n",
       "      <td>-0.120386</td>\n",
       "      <td>-0.120386</td>\n",
       "      <td>-0.098058</td>\n",
       "      <td>-0.256885</td>\n",
       "      <td>-0.069171</td>\n",
       "      <td>-0.246183</td>\n",
       "      <td>-0.069171</td>\n",
       "    </tr>\n",
       "    <tr>\n",
       "      <th>...</th>\n",
       "      <td>...</td>\n",
       "      <td>...</td>\n",
       "      <td>...</td>\n",
       "      <td>...</td>\n",
       "      <td>...</td>\n",
       "      <td>...</td>\n",
       "      <td>...</td>\n",
       "      <td>...</td>\n",
       "      <td>...</td>\n",
       "      <td>...</td>\n",
       "      <td>...</td>\n",
       "      <td>...</td>\n",
       "      <td>...</td>\n",
       "      <td>...</td>\n",
       "      <td>...</td>\n",
       "      <td>...</td>\n",
       "      <td>...</td>\n",
       "      <td>...</td>\n",
       "      <td>...</td>\n",
       "      <td>...</td>\n",
       "      <td>...</td>\n",
       "    </tr>\n",
       "    <tr>\n",
       "      <th>205</th>\n",
       "      <td>-1.022360</td>\n",
       "      <td>-1.170996</td>\n",
       "      <td>-1.134152</td>\n",
       "      <td>1.232099</td>\n",
       "      <td>-0.497657</td>\n",
       "      <td>-0.120386</td>\n",
       "      <td>0.926503</td>\n",
       "      <td>-0.069171</td>\n",
       "      <td>-0.462464</td>\n",
       "      <td>-0.603023</td>\n",
       "      <td>...</td>\n",
       "      <td>-0.139347</td>\n",
       "      <td>-0.267261</td>\n",
       "      <td>-0.211604</td>\n",
       "      <td>-0.120386</td>\n",
       "      <td>-0.120386</td>\n",
       "      <td>-0.098058</td>\n",
       "      <td>-0.256885</td>\n",
       "      <td>-0.069171</td>\n",
       "      <td>-0.246183</td>\n",
       "      <td>-0.069171</td>\n",
       "    </tr>\n",
       "    <tr>\n",
       "      <th>206</th>\n",
       "      <td>1.581778</td>\n",
       "      <td>1.198947</td>\n",
       "      <td>1.201126</td>\n",
       "      <td>-0.898916</td>\n",
       "      <td>0.828587</td>\n",
       "      <td>-0.120386</td>\n",
       "      <td>-1.079328</td>\n",
       "      <td>-0.069171</td>\n",
       "      <td>-0.462464</td>\n",
       "      <td>1.658312</td>\n",
       "      <td>...</td>\n",
       "      <td>-0.139347</td>\n",
       "      <td>-0.267261</td>\n",
       "      <td>-0.211604</td>\n",
       "      <td>-0.120386</td>\n",
       "      <td>-0.120386</td>\n",
       "      <td>-0.098058</td>\n",
       "      <td>-0.256885</td>\n",
       "      <td>-0.069171</td>\n",
       "      <td>-0.246183</td>\n",
       "      <td>-0.069171</td>\n",
       "    </tr>\n",
       "    <tr>\n",
       "      <th>207</th>\n",
       "      <td>-0.947151</td>\n",
       "      <td>-0.984596</td>\n",
       "      <td>-1.173937</td>\n",
       "      <td>0.734862</td>\n",
       "      <td>1.624333</td>\n",
       "      <td>-0.120386</td>\n",
       "      <td>0.926503</td>\n",
       "      <td>-0.069171</td>\n",
       "      <td>-0.462464</td>\n",
       "      <td>-0.603023</td>\n",
       "      <td>...</td>\n",
       "      <td>-0.139347</td>\n",
       "      <td>-0.267261</td>\n",
       "      <td>-0.211604</td>\n",
       "      <td>-0.120386</td>\n",
       "      <td>-0.120386</td>\n",
       "      <td>-0.098058</td>\n",
       "      <td>-0.256885</td>\n",
       "      <td>-0.069171</td>\n",
       "      <td>-0.246183</td>\n",
       "      <td>-0.069171</td>\n",
       "    </tr>\n",
       "    <tr>\n",
       "      <th>208</th>\n",
       "      <td>-0.956552</td>\n",
       "      <td>-1.517168</td>\n",
       "      <td>-1.035291</td>\n",
       "      <td>2.191056</td>\n",
       "      <td>1.093835</td>\n",
       "      <td>-0.120386</td>\n",
       "      <td>0.926503</td>\n",
       "      <td>-0.069171</td>\n",
       "      <td>-0.462464</td>\n",
       "      <td>-0.603023</td>\n",
       "      <td>...</td>\n",
       "      <td>-0.139347</td>\n",
       "      <td>-0.267261</td>\n",
       "      <td>-0.211604</td>\n",
       "      <td>-0.120386</td>\n",
       "      <td>-0.120386</td>\n",
       "      <td>-0.098058</td>\n",
       "      <td>-0.256885</td>\n",
       "      <td>-0.069171</td>\n",
       "      <td>4.062019</td>\n",
       "      <td>-0.069171</td>\n",
       "    </tr>\n",
       "    <tr>\n",
       "      <th>209</th>\n",
       "      <td>-0.665114</td>\n",
       "      <td>0.266947</td>\n",
       "      <td>-0.179304</td>\n",
       "      <td>0.060041</td>\n",
       "      <td>0.563338</td>\n",
       "      <td>-0.120386</td>\n",
       "      <td>0.926503</td>\n",
       "      <td>-0.069171</td>\n",
       "      <td>-0.462464</td>\n",
       "      <td>-0.603023</td>\n",
       "      <td>...</td>\n",
       "      <td>-0.139347</td>\n",
       "      <td>-0.267261</td>\n",
       "      <td>-0.211604</td>\n",
       "      <td>-0.120386</td>\n",
       "      <td>8.306624</td>\n",
       "      <td>-0.098058</td>\n",
       "      <td>-0.256885</td>\n",
       "      <td>-0.069171</td>\n",
       "      <td>-0.246183</td>\n",
       "      <td>-0.069171</td>\n",
       "    </tr>\n",
       "  </tbody>\n",
       "</table>\n",
       "<p>210 rows × 43 columns</p>\n",
       "</div>"
      ],
      "text/plain": [
       "     Displacement  Horsepower    Weight  Acceleration  Model Year     Cyl_3  \\\n",
       "0        1.055309    1.198947  0.589879     -1.254086   -1.558652 -0.120386   \n",
       "1        1.064711    0.666376  1.080565     -0.046510    0.828587 -0.120386   \n",
       "2       -0.947151   -1.011225 -1.318611     -0.614781    1.093835 -0.120386   \n",
       "3       -0.665114    0.187061 -0.091294     -0.010993   -0.762906 -0.120386   \n",
       "4        1.863814    2.264090  1.092621     -2.497178   -1.558652 -0.120386   \n",
       "..            ...         ...       ...           ...         ...       ...   \n",
       "205     -1.022360   -1.170996 -1.134152      1.232099   -0.497657 -0.120386   \n",
       "206      1.581778    1.198947  1.201126     -0.898916    0.828587 -0.120386   \n",
       "207     -0.947151   -0.984596 -1.173937      0.734862    1.624333 -0.120386   \n",
       "208     -0.956552   -1.517168 -1.035291      2.191056    1.093835 -0.120386   \n",
       "209     -0.665114    0.266947 -0.179304      0.060041    0.563338 -0.120386   \n",
       "\n",
       "        Cyl_4     Cyl_5     Cyl_6     Cyl_8  ...  Comp_peugeot  Comp_plymouth  \\\n",
       "0   -1.079328 -0.069171 -0.462464  1.658312  ...     -0.139347      -0.267261   \n",
       "1   -1.079328 -0.069171 -0.462464  1.658312  ...     -0.139347      -0.267261   \n",
       "2    0.926503 -0.069171 -0.462464 -0.603023  ...     -0.139347      -0.267261   \n",
       "3    0.926503 -0.069171 -0.462464 -0.603023  ...     -0.139347      -0.267261   \n",
       "4   -1.079328 -0.069171 -0.462464  1.658312  ...     -0.139347      -0.267261   \n",
       "..        ...       ...       ...       ...  ...           ...            ...   \n",
       "205  0.926503 -0.069171 -0.462464 -0.603023  ...     -0.139347      -0.267261   \n",
       "206 -1.079328 -0.069171 -0.462464  1.658312  ...     -0.139347      -0.267261   \n",
       "207  0.926503 -0.069171 -0.462464 -0.603023  ...     -0.139347      -0.267261   \n",
       "208  0.926503 -0.069171 -0.462464 -0.603023  ...     -0.139347      -0.267261   \n",
       "209  0.926503 -0.069171 -0.462464 -0.603023  ...     -0.139347      -0.267261   \n",
       "\n",
       "     Comp_pontiac  Comp_renault  Comp_saab  Comp_subaru  Comp_toyota  \\\n",
       "0       -0.211604     -0.120386  -0.120386    -0.098058    -0.256885   \n",
       "1       -0.211604     -0.120386  -0.120386    -0.098058    -0.256885   \n",
       "2       -0.211604     -0.120386  -0.120386    -0.098058    -0.256885   \n",
       "3       -0.211604     -0.120386  -0.120386    -0.098058    -0.256885   \n",
       "4       -0.211604     -0.120386  -0.120386    -0.098058    -0.256885   \n",
       "..            ...           ...        ...          ...          ...   \n",
       "205     -0.211604     -0.120386  -0.120386    -0.098058    -0.256885   \n",
       "206     -0.211604     -0.120386  -0.120386    -0.098058    -0.256885   \n",
       "207     -0.211604     -0.120386  -0.120386    -0.098058    -0.256885   \n",
       "208     -0.211604     -0.120386  -0.120386    -0.098058    -0.256885   \n",
       "209     -0.211604     -0.120386   8.306624    -0.098058    -0.256885   \n",
       "\n",
       "     Comp_triumph  Comp_volkswagen  Comp_volvo  \n",
       "0       -0.069171        -0.246183   -0.069171  \n",
       "1       -0.069171        -0.246183   -0.069171  \n",
       "2       -0.069171        -0.246183   -0.069171  \n",
       "3       -0.069171        -0.246183   14.456832  \n",
       "4       -0.069171        -0.246183   -0.069171  \n",
       "..            ...              ...         ...  \n",
       "205     -0.069171        -0.246183   -0.069171  \n",
       "206     -0.069171        -0.246183   -0.069171  \n",
       "207     -0.069171        -0.246183   -0.069171  \n",
       "208     -0.069171         4.062019   -0.069171  \n",
       "209     -0.069171        -0.246183   -0.069171  \n",
       "\n",
       "[210 rows x 43 columns]"
      ]
     },
     "execution_count": 31,
     "metadata": {},
     "output_type": "execute_result"
    }
   ],
   "source": [
    " X_train #the scaled train dataset"
   ]
  },
  {
   "cell_type": "markdown",
   "id": "4a4e7c96",
   "metadata": {
    "papermill": {
     "duration": 0.01911,
     "end_time": "2023-07-07T08:19:11.178881",
     "exception": false,
     "start_time": "2023-07-07T08:19:11.159771",
     "status": "completed"
    },
    "tags": []
   },
   "source": [
    "### Training"
   ]
  },
  {
   "cell_type": "markdown",
   "id": "de841565",
   "metadata": {
    "papermill": {
     "duration": 0.019031,
     "end_time": "2023-07-07T08:19:11.216763",
     "exception": false,
     "start_time": "2023-07-07T08:19:11.197732",
     "status": "completed"
    },
    "tags": []
   },
   "source": [
    "#### Using Linear Regression"
   ]
  },
  {
   "cell_type": "code",
   "execution_count": 32,
   "id": "f6b85cd6",
   "metadata": {
    "execution": {
     "iopub.execute_input": "2023-07-07T08:19:11.256081Z",
     "iopub.status.busy": "2023-07-07T08:19:11.255556Z",
     "iopub.status.idle": "2023-07-07T08:19:11.284941Z",
     "shell.execute_reply": "2023-07-07T08:19:11.283394Z"
    },
    "papermill": {
     "duration": 0.053411,
     "end_time": "2023-07-07T08:19:11.288750",
     "exception": false,
     "start_time": "2023-07-07T08:19:11.235339",
     "status": "completed"
    },
    "tags": []
   },
   "outputs": [
    {
     "data": {
      "text/plain": [
       "LinearRegression()"
      ]
     },
     "execution_count": 32,
     "metadata": {},
     "output_type": "execute_result"
    }
   ],
   "source": [
    "#using linear regression\n",
    "model = LinearRegression()\n",
    "model.fit(X_train, Y_train) #the fit method is used to fit the model to the dataset. This will ingest the data and learn from it"
   ]
  },
  {
   "cell_type": "code",
   "execution_count": 33,
   "id": "62570c8b",
   "metadata": {
    "execution": {
     "iopub.execute_input": "2023-07-07T08:19:11.359672Z",
     "iopub.status.busy": "2023-07-07T08:19:11.357555Z",
     "iopub.status.idle": "2023-07-07T08:19:11.373246Z",
     "shell.execute_reply": "2023-07-07T08:19:11.371740Z"
    },
    "papermill": {
     "duration": 0.05442,
     "end_time": "2023-07-07T08:19:11.376588",
     "exception": false,
     "start_time": "2023-07-07T08:19:11.322168",
     "status": "completed"
    },
    "tags": []
   },
   "outputs": [],
   "source": [
    "#predicting train\n",
    "train_pred=model.predict(X_train)\n",
    "#predicting on test\n",
    "test_pred=model.predict(X_test)"
   ]
  },
  {
   "cell_type": "code",
   "execution_count": 34,
   "id": "e5ba5e41",
   "metadata": {
    "execution": {
     "iopub.execute_input": "2023-07-07T08:19:11.422390Z",
     "iopub.status.busy": "2023-07-07T08:19:11.421309Z",
     "iopub.status.idle": "2023-07-07T08:19:11.434701Z",
     "shell.execute_reply": "2023-07-07T08:19:11.433105Z"
    },
    "papermill": {
     "duration": 0.037315,
     "end_time": "2023-07-07T08:19:11.437609",
     "exception": false,
     "start_time": "2023-07-07T08:19:11.400294",
     "status": "completed"
    },
    "tags": []
   },
   "outputs": [
    {
     "name": "stdout",
     "output_type": "stream",
     "text": [
      "RSquared value on train: 0.8782\n",
      "RSquared value on test: 0.8211\n"
     ]
    }
   ],
   "source": [
    "print('RSquared value on train: {:.4f}'.format(model.score(X_train, Y_train)))\n",
    "print('RSquared value on test: {:.4f}'.format(model.score(X_test, Y_test)))"
   ]
  },
  {
   "cell_type": "code",
   "execution_count": 35,
   "id": "ed13faff",
   "metadata": {
    "execution": {
     "iopub.execute_input": "2023-07-07T08:19:11.478622Z",
     "iopub.status.busy": "2023-07-07T08:19:11.478130Z",
     "iopub.status.idle": "2023-07-07T08:19:11.489591Z",
     "shell.execute_reply": "2023-07-07T08:19:11.487722Z"
    },
    "papermill": {
     "duration": 0.035219,
     "end_time": "2023-07-07T08:19:11.492367",
     "exception": false,
     "start_time": "2023-07-07T08:19:11.457148",
     "status": "completed"
    },
    "tags": []
   },
   "outputs": [
    {
     "name": "stdout",
     "output_type": "stream",
     "text": [
      "The accuracy of this model on testing comes out as 82.11%\n"
     ]
    }
   ],
   "source": [
    "print(\"The accuracy of this model on testing comes out as {:.2f}%\".format(model.score(X_test, Y_test)*100))"
   ]
  },
  {
   "cell_type": "code",
   "execution_count": 36,
   "id": "9d89885e",
   "metadata": {
    "execution": {
     "iopub.execute_input": "2023-07-07T08:19:11.532810Z",
     "iopub.status.busy": "2023-07-07T08:19:11.532321Z",
     "iopub.status.idle": "2023-07-07T08:19:11.858696Z",
     "shell.execute_reply": "2023-07-07T08:19:11.857590Z"
    },
    "papermill": {
     "duration": 0.351167,
     "end_time": "2023-07-07T08:19:11.862987",
     "exception": false,
     "start_time": "2023-07-07T08:19:11.511820",
     "status": "completed"
    },
    "tags": []
   },
   "outputs": [
    {
     "data": {
      "image/png": "[encoded data removed]",
      "text/plain": [
       "<Figure size 1296x720 with 1 Axes>"
      ]
     },
     "metadata": {
      "needs_background": "light"
     },
     "output_type": "display_data"
    }
   ],
   "source": [
    "plt.figure(figsize=(18,10))\n",
    "x_ax = range(len(Y_test))\n",
    "plt.plot(x_ax, Y_test, label=\"original\")\n",
    "plt.plot(x_ax, test_pred, label=\"predicted\")\n",
    "plt.title(\"Actual Fuel comsumption and predicted data\")\n",
    "plt.legend()\n",
    "plt.show()"
   ]
  },
  {
   "cell_type": "markdown",
   "id": "394e395e",
   "metadata": {
    "papermill": {
     "duration": 0.022273,
     "end_time": "2023-07-07T08:19:11.908062",
     "exception": false,
     "start_time": "2023-07-07T08:19:11.885789",
     "status": "completed"
    },
    "tags": []
   },
   "source": [
    "#### Using Decision Tree"
   ]
  },
  {
   "cell_type": "code",
   "execution_count": 37,
   "id": "0c96ee5c",
   "metadata": {
    "execution": {
     "iopub.execute_input": "2023-07-07T08:19:11.953986Z",
     "iopub.status.busy": "2023-07-07T08:19:11.953178Z",
     "iopub.status.idle": "2023-07-07T08:19:11.967773Z",
     "shell.execute_reply": "2023-07-07T08:19:11.966385Z"
    },
    "papermill": {
     "duration": 0.039972,
     "end_time": "2023-07-07T08:19:11.970157",
     "exception": false,
     "start_time": "2023-07-07T08:19:11.930185",
     "status": "completed"
    },
    "tags": []
   },
   "outputs": [
    {
     "data": {
      "text/plain": [
       "DecisionTreeRegressor()"
      ]
     },
     "execution_count": 37,
     "metadata": {},
     "output_type": "execute_result"
    }
   ],
   "source": [
    "DT=DecisionTreeRegressor()\n",
    "DT.fit(X_train,Y_train)"
   ]
  },
  {
   "cell_type": "code",
   "execution_count": 38,
   "id": "f02b3a48",
   "metadata": {
    "execution": {
     "iopub.execute_input": "2023-07-07T08:19:12.016434Z",
     "iopub.status.busy": "2023-07-07T08:19:12.015027Z",
     "iopub.status.idle": "2023-07-07T08:19:12.025095Z",
     "shell.execute_reply": "2023-07-07T08:19:12.024110Z"
    },
    "papermill": {
     "duration": 0.036136,
     "end_time": "2023-07-07T08:19:12.027721",
     "exception": false,
     "start_time": "2023-07-07T08:19:11.991585",
     "status": "completed"
    },
    "tags": []
   },
   "outputs": [],
   "source": [
    "#predicting train\n",
    "train_preds=DT.predict(X_train)\n",
    "#predicting on test\n",
    "test_preds=DT.predict(X_test)"
   ]
  },
  {
   "cell_type": "code",
   "execution_count": 39,
   "id": "94481c80",
   "metadata": {
    "execution": {
     "iopub.execute_input": "2023-07-07T08:19:12.073185Z",
     "iopub.status.busy": "2023-07-07T08:19:12.071890Z",
     "iopub.status.idle": "2023-07-07T08:19:12.084272Z",
     "shell.execute_reply": "2023-07-07T08:19:12.083429Z"
    },
    "papermill": {
     "duration": 0.037587,
     "end_time": "2023-07-07T08:19:12.086838",
     "exception": false,
     "start_time": "2023-07-07T08:19:12.049251",
     "status": "completed"
    },
    "tags": []
   },
   "outputs": [
    {
     "name": "stdout",
     "output_type": "stream",
     "text": [
      "RSquared value on train: 1.0000\n",
      "RSquared value on test: 0.7568\n"
     ]
    }
   ],
   "source": [
    "print('RSquared value on train: {:.4f}'.format(DT.score(X_train, Y_train)))\n",
    "print('RSquared value on test: {:.4f}'.format(DT.score(X_test, Y_test)))"
   ]
  },
  {
   "cell_type": "code",
   "execution_count": 40,
   "id": "2b834dfc",
   "metadata": {
    "execution": {
     "iopub.execute_input": "2023-07-07T08:19:12.134169Z",
     "iopub.status.busy": "2023-07-07T08:19:12.133727Z",
     "iopub.status.idle": "2023-07-07T08:19:12.143434Z",
     "shell.execute_reply": "2023-07-07T08:19:12.142193Z"
    },
    "papermill": {
     "duration": 0.037438,
     "end_time": "2023-07-07T08:19:12.146236",
     "exception": false,
     "start_time": "2023-07-07T08:19:12.108798",
     "status": "completed"
    },
    "tags": []
   },
   "outputs": [
    {
     "name": "stdout",
     "output_type": "stream",
     "text": [
      "The accuracy of this model on testing comes out as 75.68%\n"
     ]
    }
   ],
   "source": [
    "print(\"The accuracy of this model on testing comes out as {:.2f}%\".format(DT.score(X_test, Y_test)*100))"
   ]
  },
  {
   "cell_type": "code",
   "execution_count": 41,
   "id": "ff5dbe63",
   "metadata": {
    "execution": {
     "iopub.execute_input": "2023-07-07T08:19:12.190696Z",
     "iopub.status.busy": "2023-07-07T08:19:12.190280Z",
     "iopub.status.idle": "2023-07-07T08:19:12.465775Z",
     "shell.execute_reply": "2023-07-07T08:19:12.464141Z"
    },
    "papermill": {
     "duration": 0.300839,
     "end_time": "2023-07-07T08:19:12.468443",
     "exception": false,
     "start_time": "2023-07-07T08:19:12.167604",
     "status": "completed"
    },
    "tags": []
   },
   "outputs": [
    {
     "data": {
      "image/png": "[encoded data removed]",
      "text/plain": [
       "<Figure size 1296x720 with 1 Axes>"
      ]
     },
     "metadata": {
      "needs_background": "light"
     },
     "output_type": "display_data"
    }
   ],
   "source": [
    "plt.figure(figsize=(18,10))\n",
    "x_ax = range(len(Y_test))\n",
    "plt.plot(x_ax, Y_test, label=\"original\")\n",
    "plt.plot(x_ax, test_preds, label=\"predicted\")\n",
    "plt.title(\"Actual Fuel comsumption and predicted data\")\n",
    "plt.legend()\n",
    "plt.show()"
   ]
  }
 ],
 "metadata": {
  "kernelspec": {
   "display_name": "Python 3",
   "language": "python",
   "name": "python3"
  },
  "language_info": {
   "codemirror_mode": {
    "name": "ipython",
    "version": 3
   },
   "file_extension": ".py",
   "mimetype": "text/x-python",
   "name": "python",
   "nbconvert_exporter": "python",
   "pygments_lexer": "ipython3",
   "version": "3.7.12"
  },
  "papermill": {
   "default_parameters": {},
   "duration": 17.226884,
   "end_time": "2023-07-07T08:19:13.418863",
   "environment_variables": {},
   "exception": null,
   "input_path": "__notebook__.ipynb",
   "output_path": "__notebook__.ipynb",
   "parameters": {},
   "start_time": "2023-07-07T08:18:56.191979",
   "version": "2.3.4"
  }
 },
 "nbformat": 4,
 "nbformat_minor": 5
}
